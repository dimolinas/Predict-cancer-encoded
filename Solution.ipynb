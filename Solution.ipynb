{
  "cells": [
    {
      "cell_type": "markdown",
      "metadata": {
        "id": "FlJEXNelTtmv"
      },
      "source": [
        "## Category: Getting Started"
      ]
    },
    {
      "cell_type": "markdown",
      "metadata": {
        "id": "KZ0bjAe4Tu8A"
      },
      "source": [
        "### Task 1: Import Modules and Libraries"
      ]
    },
    {
      "cell_type": "code",
      "execution_count": 1,
      "metadata": {
        "id": "wR7f17L3T6RC"
      },
      "outputs": [
        {
          "name": "stderr",
          "output_type": "stream",
          "text": [
            "[nltk_data] Downloading package stopwords to /root/nltk_data...\n",
            "[nltk_data]   Unzipping corpora/stopwords.zip.\n",
            "[nltk_data] Downloading package punkt to /root/nltk_data...\n",
            "[nltk_data]   Unzipping tokenizers/punkt.zip.\n"
          ]
        }
      ],
      "source": [
        "import pandas as pd\n",
        "import matplotlib.pyplot as plt\n",
        "import re\n",
        "import warnings\n",
        "import numpy as np\n",
        "import nltk\n",
        "from sklearn.preprocessing import normalize\n",
        "from sklearn.feature_extraction.text import CountVectorizer\n",
        "import seaborn as sns\n",
        "from sklearn.metrics import confusion_matrix\n",
        "from sklearn.metrics import accuracy_score, log_loss\n",
        "from sklearn.feature_extraction.text import TfidfVectorizer\n",
        "from sklearn.linear_model import SGDClassifier\n",
        "from collections import Counter\n",
        "from scipy.sparse import hstack\n",
        "from collections import defaultdict\n",
        "from sklearn.model_selection import train_test_split\n",
        "import math\n",
        "from sklearn.ensemble import RandomForestClassifier\n",
        "from sklearn.linear_model import LogisticRegression\n",
        "from sklearn.calibration import CalibratedClassifierCV\n",
        "\n",
        "# downloading text processing libraries\n",
        "nltk.download('stopwords')\n",
        "nltk.download('punkt')\n",
        "\n",
        "from nltk.corpus import stopwords\n",
        "from nltk.tokenize import word_tokenize"
      ]
    },
    {
      "cell_type": "markdown",
      "metadata": {
        "id": "ebSFv0kYVAcq"
      },
      "source": [
        "## Category: Loading Data"
      ]
    },
    {
      "cell_type": "markdown",
      "metadata": {
        "id": "i9Yt7mQLVKCB"
      },
      "source": [
        "### Task 2: Load and Explore the Genes and Variations Dataset"
      ]
    },
    {
      "cell_type": "code",
      "execution_count": 2,
      "metadata": {
        "id": "7-dYjVi4VDLC"
      },
      "outputs": [
        {
          "name": "stdout",
          "output_type": "stream",
          "text": [
            "Total number of data points:  3321\n",
            "Total number of features:  4\n",
            "List of features:  ['ID' 'Gene' 'Variation' 'Class']\n",
            "The first five data points are:\n",
            "   ID    Gene             Variation  Class\n",
            "0   0  FAM58A  Truncating Mutations      1\n",
            "1   1     CBL                 W802*      2\n",
            "2   2     CBL                 Q249E      2\n",
            "3   3     CBL                 N454D      3\n",
            "4   4     CBL                 L399V      4\n",
            "ID            int64\n",
            "Gene         object\n",
            "Variation    object\n",
            "Class         int64\n",
            "dtype: object\n",
            "Number of unique variations: 2996\n",
            "Number of unique genes: 264\n"
          ]
        }
      ],
      "source": [
        "data = pd.read_csv('/usercode/training_variants')\n",
        "print('Total number of data points: ', data.shape[0])\n",
        "print('Total number of features: ', data.shape[1])\n",
        "print('List of features: ', data.columns.values)\n",
        "print ('The first five data points are:')\n",
        "print (data.head())\n",
        "print (data.dtypes)\n",
        "print('Number of unique variations:', len(data['Variation'].unique()))\n",
        "print ('Number of unique genes:', len(data['Gene'].unique()))"
      ]
    },
    {
      "cell_type": "code",
      "execution_count": 3,
      "metadata": {},
      "outputs": [
        {
          "data": {
            "text/html": [
              "<div>\n",
              "<style scoped>\n",
              "    .dataframe tbody tr th:only-of-type {\n",
              "        vertical-align: middle;\n",
              "    }\n",
              "\n",
              "    .dataframe tbody tr th {\n",
              "        vertical-align: top;\n",
              "    }\n",
              "\n",
              "    .dataframe thead th {\n",
              "        text-align: right;\n",
              "    }\n",
              "</style>\n",
              "<table border=\"1\" class=\"dataframe\">\n",
              "  <thead>\n",
              "    <tr style=\"text-align: right;\">\n",
              "      <th></th>\n",
              "      <th>ID</th>\n",
              "      <th>Gene</th>\n",
              "      <th>Variation</th>\n",
              "      <th>Class</th>\n",
              "    </tr>\n",
              "  </thead>\n",
              "  <tbody>\n",
              "    <tr>\n",
              "      <th>0</th>\n",
              "      <td>0</td>\n",
              "      <td>FAM58A</td>\n",
              "      <td>Truncating Mutations</td>\n",
              "      <td>1</td>\n",
              "    </tr>\n",
              "    <tr>\n",
              "      <th>1</th>\n",
              "      <td>1</td>\n",
              "      <td>CBL</td>\n",
              "      <td>W802*</td>\n",
              "      <td>2</td>\n",
              "    </tr>\n",
              "    <tr>\n",
              "      <th>2</th>\n",
              "      <td>2</td>\n",
              "      <td>CBL</td>\n",
              "      <td>Q249E</td>\n",
              "      <td>2</td>\n",
              "    </tr>\n",
              "    <tr>\n",
              "      <th>3</th>\n",
              "      <td>3</td>\n",
              "      <td>CBL</td>\n",
              "      <td>N454D</td>\n",
              "      <td>3</td>\n",
              "    </tr>\n",
              "    <tr>\n",
              "      <th>4</th>\n",
              "      <td>4</td>\n",
              "      <td>CBL</td>\n",
              "      <td>L399V</td>\n",
              "      <td>4</td>\n",
              "    </tr>\n",
              "    <tr>\n",
              "      <th>5</th>\n",
              "      <td>5</td>\n",
              "      <td>CBL</td>\n",
              "      <td>V391I</td>\n",
              "      <td>4</td>\n",
              "    </tr>\n",
              "    <tr>\n",
              "      <th>6</th>\n",
              "      <td>6</td>\n",
              "      <td>CBL</td>\n",
              "      <td>V430M</td>\n",
              "      <td>5</td>\n",
              "    </tr>\n",
              "    <tr>\n",
              "      <th>7</th>\n",
              "      <td>7</td>\n",
              "      <td>CBL</td>\n",
              "      <td>Deletion</td>\n",
              "      <td>1</td>\n",
              "    </tr>\n",
              "    <tr>\n",
              "      <th>8</th>\n",
              "      <td>8</td>\n",
              "      <td>CBL</td>\n",
              "      <td>Y371H</td>\n",
              "      <td>4</td>\n",
              "    </tr>\n",
              "    <tr>\n",
              "      <th>9</th>\n",
              "      <td>9</td>\n",
              "      <td>CBL</td>\n",
              "      <td>C384R</td>\n",
              "      <td>4</td>\n",
              "    </tr>\n",
              "    <tr>\n",
              "      <th>10</th>\n",
              "      <td>10</td>\n",
              "      <td>CBL</td>\n",
              "      <td>P395A</td>\n",
              "      <td>4</td>\n",
              "    </tr>\n",
              "    <tr>\n",
              "      <th>11</th>\n",
              "      <td>11</td>\n",
              "      <td>CBL</td>\n",
              "      <td>K382E</td>\n",
              "      <td>4</td>\n",
              "    </tr>\n",
              "    <tr>\n",
              "      <th>12</th>\n",
              "      <td>12</td>\n",
              "      <td>CBL</td>\n",
              "      <td>R420Q</td>\n",
              "      <td>4</td>\n",
              "    </tr>\n",
              "    <tr>\n",
              "      <th>13</th>\n",
              "      <td>13</td>\n",
              "      <td>CBL</td>\n",
              "      <td>C381A</td>\n",
              "      <td>4</td>\n",
              "    </tr>\n",
              "    <tr>\n",
              "      <th>14</th>\n",
              "      <td>14</td>\n",
              "      <td>CBL</td>\n",
              "      <td>P428L</td>\n",
              "      <td>5</td>\n",
              "    </tr>\n",
              "    <tr>\n",
              "      <th>15</th>\n",
              "      <td>15</td>\n",
              "      <td>CBL</td>\n",
              "      <td>D390Y</td>\n",
              "      <td>4</td>\n",
              "    </tr>\n",
              "    <tr>\n",
              "      <th>16</th>\n",
              "      <td>16</td>\n",
              "      <td>CBL</td>\n",
              "      <td>Truncating Mutations</td>\n",
              "      <td>1</td>\n",
              "    </tr>\n",
              "    <tr>\n",
              "      <th>17</th>\n",
              "      <td>17</td>\n",
              "      <td>CBL</td>\n",
              "      <td>Q367P</td>\n",
              "      <td>4</td>\n",
              "    </tr>\n",
              "    <tr>\n",
              "      <th>18</th>\n",
              "      <td>18</td>\n",
              "      <td>CBL</td>\n",
              "      <td>M374V</td>\n",
              "      <td>5</td>\n",
              "    </tr>\n",
              "    <tr>\n",
              "      <th>19</th>\n",
              "      <td>19</td>\n",
              "      <td>CBL</td>\n",
              "      <td>Y371S</td>\n",
              "      <td>4</td>\n",
              "    </tr>\n",
              "  </tbody>\n",
              "</table>\n",
              "</div>"
            ],
            "text/plain": [
              "    ID    Gene             Variation  Class\n",
              "0    0  FAM58A  Truncating Mutations      1\n",
              "1    1     CBL                 W802*      2\n",
              "2    2     CBL                 Q249E      2\n",
              "3    3     CBL                 N454D      3\n",
              "4    4     CBL                 L399V      4\n",
              "5    5     CBL                 V391I      4\n",
              "6    6     CBL                 V430M      5\n",
              "7    7     CBL              Deletion      1\n",
              "8    8     CBL                 Y371H      4\n",
              "9    9     CBL                 C384R      4\n",
              "10  10     CBL                 P395A      4\n",
              "11  11     CBL                 K382E      4\n",
              "12  12     CBL                 R420Q      4\n",
              "13  13     CBL                 C381A      4\n",
              "14  14     CBL                 P428L      5\n",
              "15  15     CBL                 D390Y      4\n",
              "16  16     CBL  Truncating Mutations      1\n",
              "17  17     CBL                 Q367P      4\n",
              "18  18     CBL                 M374V      5\n",
              "19  19     CBL                 Y371S      4"
            ]
          },
          "execution_count": 3,
          "metadata": {},
          "output_type": "execute_result"
        }
      ],
      "source": [
        "data.head(20)"
      ]
    },
    {
      "cell_type": "markdown",
      "metadata": {
        "id": "7U-d9o3QVQry"
      },
      "source": [
        "### Task 3: Load the Text Dataset"
      ]
    },
    {
      "cell_type": "code",
      "execution_count": 4,
      "metadata": {
        "id": "sm5buZHkVpub"
      },
      "outputs": [
        {
          "name": "stderr",
          "output_type": "stream",
          "text": [
            "/tmp/ipykernel_149/2415467616.py:1: ParserWarning: Falling back to the 'python' engine because the 'c' engine does not support regex separators (separators > 1 char and different from '\\s+' are interpreted as regex); you can avoid this warning by specifying engine='python'.\n",
            "  text_data = pd.read_csv(\"/usercode/training_text\",sep=\"\\|\\|\",names=[\"ID\",\"Text\"],skiprows=1)\n"
          ]
        },
        {
          "name": "stdout",
          "output_type": "stream",
          "text": [
            "Number of data points:  3321\n",
            "Number of features:  2\n",
            "Features:  ['ID' 'Text']\n",
            "   ID                                               Text\n",
            "0   0  Cyclin-dependent kinases (CDKs) regulate a var...\n",
            "1   1   Abstract Background  Non-small cell lung canc...\n",
            "2   2   Abstract Background  Non-small cell lung canc...\n",
            "3   3  Recent evidence has demonstrated that acquired...\n",
            "4   4  Oncogenic mutations in the monomeric Casitas B...\n"
          ]
        }
      ],
      "source": [
        "text_data = pd.read_csv(\"/usercode/training_text\",sep=\"\\|\\|\",names=[\"ID\",\"Text\"],skiprows=1)\n",
        "print('Number of data points: ', text_data.shape[0])\n",
        "print('Number of features: ', text_data.shape[1])\n",
        "print('Features: ', text_data.columns.values)\n",
        "print(text_data.head())"
      ]
    },
    {
      "cell_type": "code",
      "execution_count": 5,
      "metadata": {},
      "outputs": [
        {
          "data": {
            "text/html": [
              "<div>\n",
              "<style scoped>\n",
              "    .dataframe tbody tr th:only-of-type {\n",
              "        vertical-align: middle;\n",
              "    }\n",
              "\n",
              "    .dataframe tbody tr th {\n",
              "        vertical-align: top;\n",
              "    }\n",
              "\n",
              "    .dataframe thead th {\n",
              "        text-align: right;\n",
              "    }\n",
              "</style>\n",
              "<table border=\"1\" class=\"dataframe\">\n",
              "  <thead>\n",
              "    <tr style=\"text-align: right;\">\n",
              "      <th></th>\n",
              "      <th>ID</th>\n",
              "      <th>Text</th>\n",
              "    </tr>\n",
              "  </thead>\n",
              "  <tbody>\n",
              "    <tr>\n",
              "      <th>0</th>\n",
              "      <td>0</td>\n",
              "      <td>Cyclin-dependent kinases (CDKs) regulate a var...</td>\n",
              "    </tr>\n",
              "    <tr>\n",
              "      <th>1</th>\n",
              "      <td>1</td>\n",
              "      <td>Abstract Background  Non-small cell lung canc...</td>\n",
              "    </tr>\n",
              "    <tr>\n",
              "      <th>2</th>\n",
              "      <td>2</td>\n",
              "      <td>Abstract Background  Non-small cell lung canc...</td>\n",
              "    </tr>\n",
              "    <tr>\n",
              "      <th>3</th>\n",
              "      <td>3</td>\n",
              "      <td>Recent evidence has demonstrated that acquired...</td>\n",
              "    </tr>\n",
              "    <tr>\n",
              "      <th>4</th>\n",
              "      <td>4</td>\n",
              "      <td>Oncogenic mutations in the monomeric Casitas B...</td>\n",
              "    </tr>\n",
              "  </tbody>\n",
              "</table>\n",
              "</div>"
            ],
            "text/plain": [
              "   ID                                               Text\n",
              "0   0  Cyclin-dependent kinases (CDKs) regulate a var...\n",
              "1   1   Abstract Background  Non-small cell lung canc...\n",
              "2   2   Abstract Background  Non-small cell lung canc...\n",
              "3   3  Recent evidence has demonstrated that acquired...\n",
              "4   4  Oncogenic mutations in the monomeric Casitas B..."
            ]
          },
          "execution_count": 5,
          "metadata": {},
          "output_type": "execute_result"
        }
      ],
      "source": [
        "text_data.head()"
      ]
    },
    {
      "cell_type": "markdown",
      "metadata": {
        "id": "DCz5xHSHVqmJ"
      },
      "source": [
        "## Category: Text Pre-processing"
      ]
    },
    {
      "cell_type": "markdown",
      "metadata": {
        "id": "rkMUFnxdYeC-"
      },
      "source": [
        "### Task 4: Define the Function for Pre-processing"
      ]
    },
    {
      "cell_type": "code",
      "execution_count": 6,
      "metadata": {
        "id": "NOCVw5Y9YaJA"
      },
      "outputs": [],
      "source": [
        "stop_words = set(stopwords.words('english'))\n",
        "\n",
        "def text_preprocessing(text):\n",
        "    if isinstance(text, str):\n",
        "        # Replace special characters with space\n",
        "        text = re.sub('[^a-zA-Z0-9\\n]', ' ', text)\n",
        "        # Replace multiple spaces with a single space\n",
        "        text = re.sub('\\s+',' ', text)\n",
        "        # Convert all the chars into lower-case\n",
        "        text = text.lower()\n",
        "\n",
        "        # Tokenize the sentence into a list of words\n",
        "        words = word_tokenize(text)\n",
        "\n",
        "        # Remove stop words. stopwords set defined using NLTK\n",
        "        final_words = [word for word in words if word not in stop_words]\n",
        "\n",
        "        # Join the filtered words back into a string\n",
        "        final_text = ' '.join(final_words)\n",
        "\n",
        "        return final_text"
      ]
    },
    {
      "cell_type": "code",
      "execution_count": 7,
      "metadata": {},
      "outputs": [
        {
          "name": "stdout",
          "output_type": "stream",
          "text": [
            "hello world\n"
          ]
        }
      ],
      "source": [
        "print(\"hello world\")"
      ]
    },
    {
      "cell_type": "markdown",
      "metadata": {
        "id": "_WzXC5WJYoyD"
      },
      "source": [
        "### Task 5: Pre-process the Data"
      ]
    },
    {
      "cell_type": "code",
      "execution_count": 8,
      "metadata": {
        "id": "UQvb8CGbYr9M"
      },
      "outputs": [
        {
          "name": "stderr",
          "output_type": "stream",
          "text": [
            "/tmp/ipykernel_149/1240470297.py:3: SettingWithCopyWarning: \n",
            "A value is trying to be set on a copy of a slice from a DataFrame\n",
            "\n",
            "See the caveats in the documentation: https://pandas.pydata.org/pandas-docs/stable/user_guide/indexing.html#returning-a-view-versus-a-copy\n",
            "  text_data['Text'][idx] = text_preprocessing(data_point['Text'])\n"
          ]
        },
        {
          "name": "stdout",
          "output_type": "stream",
          "text": [
            "Corresponding text data missing for data point number: 1109\n",
            "Corresponding text data missing for data point number: 1277\n",
            "Corresponding text data missing for data point number: 1407\n",
            "Corresponding text data missing for data point number: 1639\n",
            "Corresponding text data missing for data point number: 2755\n"
          ]
        }
      ],
      "source": [
        "for idx, data_point in text_data.iterrows():\n",
        "    if isinstance(data_point['Text'], str):\n",
        "        text_data['Text'][idx] = text_preprocessing(data_point['Text'])\n",
        "    else:\n",
        "        print(\"Corresponding text data missing for data point number:\", idx)"
      ]
    },
    {
      "cell_type": "code",
      "execution_count": 9,
      "metadata": {},
      "outputs": [
        {
          "data": {
            "text/html": [
              "<div>\n",
              "<style scoped>\n",
              "    .dataframe tbody tr th:only-of-type {\n",
              "        vertical-align: middle;\n",
              "    }\n",
              "\n",
              "    .dataframe tbody tr th {\n",
              "        vertical-align: top;\n",
              "    }\n",
              "\n",
              "    .dataframe thead th {\n",
              "        text-align: right;\n",
              "    }\n",
              "</style>\n",
              "<table border=\"1\" class=\"dataframe\">\n",
              "  <thead>\n",
              "    <tr style=\"text-align: right;\">\n",
              "      <th></th>\n",
              "      <th>ID</th>\n",
              "      <th>Text</th>\n",
              "    </tr>\n",
              "  </thead>\n",
              "  <tbody>\n",
              "    <tr>\n",
              "      <th>0</th>\n",
              "      <td>0</td>\n",
              "      <td>cyclin dependent kinases cdks regulate variety...</td>\n",
              "    </tr>\n",
              "    <tr>\n",
              "      <th>1</th>\n",
              "      <td>1</td>\n",
              "      <td>abstract background non small cell lung cancer...</td>\n",
              "    </tr>\n",
              "    <tr>\n",
              "      <th>2</th>\n",
              "      <td>2</td>\n",
              "      <td>abstract background non small cell lung cancer...</td>\n",
              "    </tr>\n",
              "    <tr>\n",
              "      <th>3</th>\n",
              "      <td>3</td>\n",
              "      <td>recent evidence demonstrated acquired uniparen...</td>\n",
              "    </tr>\n",
              "    <tr>\n",
              "      <th>4</th>\n",
              "      <td>4</td>\n",
              "      <td>oncogenic mutations monomeric casitas b lineag...</td>\n",
              "    </tr>\n",
              "  </tbody>\n",
              "</table>\n",
              "</div>"
            ],
            "text/plain": [
              "   ID                                               Text\n",
              "0   0  cyclin dependent kinases cdks regulate variety...\n",
              "1   1  abstract background non small cell lung cancer...\n",
              "2   2  abstract background non small cell lung cancer...\n",
              "3   3  recent evidence demonstrated acquired uniparen...\n",
              "4   4  oncogenic mutations monomeric casitas b lineag..."
            ]
          },
          "execution_count": 9,
          "metadata": {},
          "output_type": "execute_result"
        }
      ],
      "source": [
        "text_data.head()"
      ]
    },
    {
      "cell_type": "markdown",
      "metadata": {
        "id": "R1fk9ZDKYsl4"
      },
      "source": [
        "### Task 6: Merge Datasets, Clean, and Impute Values"
      ]
    },
    {
      "cell_type": "code",
      "execution_count": 10,
      "metadata": {
        "id": "ewnmTSNbYvw8"
      },
      "outputs": [],
      "source": [
        "final_df = pd.merge(data, text_data, on='ID', how='left')\n",
        "final_df['Text'] = final_df['Text'].fillna(final_df['Gene'] + ' ' + final_df['Variation'])"
      ]
    },
    {
      "cell_type": "code",
      "execution_count": 11,
      "metadata": {},
      "outputs": [
        {
          "name": "stderr",
          "output_type": "stream",
          "text": [
            "/tmp/ipykernel_149/1776589426.py:2: FutureWarning: The default value of regex will change from True to False in a future version.\n",
            "  final_df['Gene'] = final_df['Gene'].str.replace('\\s+', '_')\n",
            "/tmp/ipykernel_149/1776589426.py:3: FutureWarning: The default value of regex will change from True to False in a future version.\n",
            "  final_df['Variation'] = final_df['Variation'].str.replace('\\s+', '_')\n"
          ]
        }
      ],
      "source": [
        "# Replace spaces with underscores in 'Gene' and 'Variation' columns\n",
        "final_df['Gene'] = final_df['Gene'].str.replace('\\s+', '_')\n",
        "final_df['Variation'] = final_df['Variation'].str.replace('\\s+', '_')"
      ]
    },
    {
      "cell_type": "code",
      "execution_count": 12,
      "metadata": {},
      "outputs": [
        {
          "data": {
            "text/html": [
              "<div>\n",
              "<style scoped>\n",
              "    .dataframe tbody tr th:only-of-type {\n",
              "        vertical-align: middle;\n",
              "    }\n",
              "\n",
              "    .dataframe tbody tr th {\n",
              "        vertical-align: top;\n",
              "    }\n",
              "\n",
              "    .dataframe thead th {\n",
              "        text-align: right;\n",
              "    }\n",
              "</style>\n",
              "<table border=\"1\" class=\"dataframe\">\n",
              "  <thead>\n",
              "    <tr style=\"text-align: right;\">\n",
              "      <th></th>\n",
              "      <th>ID</th>\n",
              "      <th>Gene</th>\n",
              "      <th>Variation</th>\n",
              "      <th>Class</th>\n",
              "      <th>Text</th>\n",
              "    </tr>\n",
              "  </thead>\n",
              "  <tbody>\n",
              "    <tr>\n",
              "      <th>0</th>\n",
              "      <td>0</td>\n",
              "      <td>FAM58A</td>\n",
              "      <td>Truncating_Mutations</td>\n",
              "      <td>1</td>\n",
              "      <td>cyclin dependent kinases cdks regulate variety...</td>\n",
              "    </tr>\n",
              "    <tr>\n",
              "      <th>1</th>\n",
              "      <td>1</td>\n",
              "      <td>CBL</td>\n",
              "      <td>W802*</td>\n",
              "      <td>2</td>\n",
              "      <td>abstract background non small cell lung cancer...</td>\n",
              "    </tr>\n",
              "    <tr>\n",
              "      <th>2</th>\n",
              "      <td>2</td>\n",
              "      <td>CBL</td>\n",
              "      <td>Q249E</td>\n",
              "      <td>2</td>\n",
              "      <td>abstract background non small cell lung cancer...</td>\n",
              "    </tr>\n",
              "    <tr>\n",
              "      <th>3</th>\n",
              "      <td>3</td>\n",
              "      <td>CBL</td>\n",
              "      <td>N454D</td>\n",
              "      <td>3</td>\n",
              "      <td>recent evidence demonstrated acquired uniparen...</td>\n",
              "    </tr>\n",
              "    <tr>\n",
              "      <th>4</th>\n",
              "      <td>4</td>\n",
              "      <td>CBL</td>\n",
              "      <td>L399V</td>\n",
              "      <td>4</td>\n",
              "      <td>oncogenic mutations monomeric casitas b lineag...</td>\n",
              "    </tr>\n",
              "    <tr>\n",
              "      <th>5</th>\n",
              "      <td>5</td>\n",
              "      <td>CBL</td>\n",
              "      <td>V391I</td>\n",
              "      <td>4</td>\n",
              "      <td>oncogenic mutations monomeric casitas b lineag...</td>\n",
              "    </tr>\n",
              "    <tr>\n",
              "      <th>6</th>\n",
              "      <td>6</td>\n",
              "      <td>CBL</td>\n",
              "      <td>V430M</td>\n",
              "      <td>5</td>\n",
              "      <td>oncogenic mutations monomeric casitas b lineag...</td>\n",
              "    </tr>\n",
              "    <tr>\n",
              "      <th>7</th>\n",
              "      <td>7</td>\n",
              "      <td>CBL</td>\n",
              "      <td>Deletion</td>\n",
              "      <td>1</td>\n",
              "      <td>cbl negative regulator activated receptor tyro...</td>\n",
              "    </tr>\n",
              "    <tr>\n",
              "      <th>8</th>\n",
              "      <td>8</td>\n",
              "      <td>CBL</td>\n",
              "      <td>Y371H</td>\n",
              "      <td>4</td>\n",
              "      <td>abstract juvenile myelomonocytic leukemia jmml...</td>\n",
              "    </tr>\n",
              "    <tr>\n",
              "      <th>9</th>\n",
              "      <td>9</td>\n",
              "      <td>CBL</td>\n",
              "      <td>C384R</td>\n",
              "      <td>4</td>\n",
              "      <td>abstract juvenile myelomonocytic leukemia jmml...</td>\n",
              "    </tr>\n",
              "    <tr>\n",
              "      <th>10</th>\n",
              "      <td>10</td>\n",
              "      <td>CBL</td>\n",
              "      <td>P395A</td>\n",
              "      <td>4</td>\n",
              "      <td>oncogenic mutations monomeric casitas b lineag...</td>\n",
              "    </tr>\n",
              "    <tr>\n",
              "      <th>11</th>\n",
              "      <td>11</td>\n",
              "      <td>CBL</td>\n",
              "      <td>K382E</td>\n",
              "      <td>4</td>\n",
              "      <td>noonan syndrome autosomal dominant congenital ...</td>\n",
              "    </tr>\n",
              "    <tr>\n",
              "      <th>12</th>\n",
              "      <td>12</td>\n",
              "      <td>CBL</td>\n",
              "      <td>R420Q</td>\n",
              "      <td>4</td>\n",
              "      <td>noonan syndrome autosomal dominant congenital ...</td>\n",
              "    </tr>\n",
              "    <tr>\n",
              "      <th>13</th>\n",
              "      <td>13</td>\n",
              "      <td>CBL</td>\n",
              "      <td>C381A</td>\n",
              "      <td>4</td>\n",
              "      <td>noonan syndrome autosomal dominant congenital ...</td>\n",
              "    </tr>\n",
              "    <tr>\n",
              "      <th>14</th>\n",
              "      <td>14</td>\n",
              "      <td>CBL</td>\n",
              "      <td>P428L</td>\n",
              "      <td>5</td>\n",
              "      <td>oncogenic mutations monomeric casitas b lineag...</td>\n",
              "    </tr>\n",
              "    <tr>\n",
              "      <th>15</th>\n",
              "      <td>15</td>\n",
              "      <td>CBL</td>\n",
              "      <td>D390Y</td>\n",
              "      <td>4</td>\n",
              "      <td>noonan syndrome autosomal dominant congenital ...</td>\n",
              "    </tr>\n",
              "    <tr>\n",
              "      <th>16</th>\n",
              "      <td>16</td>\n",
              "      <td>CBL</td>\n",
              "      <td>Truncating_Mutations</td>\n",
              "      <td>1</td>\n",
              "      <td>determine residual cylindrical refractive erro...</td>\n",
              "    </tr>\n",
              "    <tr>\n",
              "      <th>17</th>\n",
              "      <td>17</td>\n",
              "      <td>CBL</td>\n",
              "      <td>Q367P</td>\n",
              "      <td>4</td>\n",
              "      <td>acquired uniparental disomy aupd common featur...</td>\n",
              "    </tr>\n",
              "    <tr>\n",
              "      <th>18</th>\n",
              "      <td>18</td>\n",
              "      <td>CBL</td>\n",
              "      <td>M374V</td>\n",
              "      <td>5</td>\n",
              "      <td>oncogenic mutations monomeric casitas b lineag...</td>\n",
              "    </tr>\n",
              "    <tr>\n",
              "      <th>19</th>\n",
              "      <td>19</td>\n",
              "      <td>CBL</td>\n",
              "      <td>Y371S</td>\n",
              "      <td>4</td>\n",
              "      <td>acquired uniparental disomy aupd common featur...</td>\n",
              "    </tr>\n",
              "  </tbody>\n",
              "</table>\n",
              "</div>"
            ],
            "text/plain": [
              "    ID    Gene             Variation  Class  \\\n",
              "0    0  FAM58A  Truncating_Mutations      1   \n",
              "1    1     CBL                 W802*      2   \n",
              "2    2     CBL                 Q249E      2   \n",
              "3    3     CBL                 N454D      3   \n",
              "4    4     CBL                 L399V      4   \n",
              "5    5     CBL                 V391I      4   \n",
              "6    6     CBL                 V430M      5   \n",
              "7    7     CBL              Deletion      1   \n",
              "8    8     CBL                 Y371H      4   \n",
              "9    9     CBL                 C384R      4   \n",
              "10  10     CBL                 P395A      4   \n",
              "11  11     CBL                 K382E      4   \n",
              "12  12     CBL                 R420Q      4   \n",
              "13  13     CBL                 C381A      4   \n",
              "14  14     CBL                 P428L      5   \n",
              "15  15     CBL                 D390Y      4   \n",
              "16  16     CBL  Truncating_Mutations      1   \n",
              "17  17     CBL                 Q367P      4   \n",
              "18  18     CBL                 M374V      5   \n",
              "19  19     CBL                 Y371S      4   \n",
              "\n",
              "                                                 Text  \n",
              "0   cyclin dependent kinases cdks regulate variety...  \n",
              "1   abstract background non small cell lung cancer...  \n",
              "2   abstract background non small cell lung cancer...  \n",
              "3   recent evidence demonstrated acquired uniparen...  \n",
              "4   oncogenic mutations monomeric casitas b lineag...  \n",
              "5   oncogenic mutations monomeric casitas b lineag...  \n",
              "6   oncogenic mutations monomeric casitas b lineag...  \n",
              "7   cbl negative regulator activated receptor tyro...  \n",
              "8   abstract juvenile myelomonocytic leukemia jmml...  \n",
              "9   abstract juvenile myelomonocytic leukemia jmml...  \n",
              "10  oncogenic mutations monomeric casitas b lineag...  \n",
              "11  noonan syndrome autosomal dominant congenital ...  \n",
              "12  noonan syndrome autosomal dominant congenital ...  \n",
              "13  noonan syndrome autosomal dominant congenital ...  \n",
              "14  oncogenic mutations monomeric casitas b lineag...  \n",
              "15  noonan syndrome autosomal dominant congenital ...  \n",
              "16  determine residual cylindrical refractive erro...  \n",
              "17  acquired uniparental disomy aupd common featur...  \n",
              "18  oncogenic mutations monomeric casitas b lineag...  \n",
              "19  acquired uniparental disomy aupd common featur...  "
            ]
          },
          "execution_count": 12,
          "metadata": {},
          "output_type": "execute_result"
        }
      ],
      "source": [
        "final_df.head(20)"
      ]
    },
    {
      "cell_type": "markdown",
      "metadata": {
        "id": "ra4fhc6TZVSS"
      },
      "source": [
        "## Category: Train-test Split"
      ]
    },
    {
      "cell_type": "markdown",
      "metadata": {
        "id": "gHg0VvPvZcNg"
      },
      "source": [
        "### Task 7: Perform Train-test Split"
      ]
    },
    {
      "cell_type": "code",
      "execution_count": 13,
      "metadata": {
        "id": "Nv_TPnUsZatY"
      },
      "outputs": [],
      "source": [
        "     \n",
        "\n",
        "# Split the data into test and train sets while maintaining the same distribution of the 'Class' column\n",
        "init_train_df, test_df = train_test_split(final_df, test_size=0.2, stratify=final_df['Class'])\n",
        "\n",
        "# Split the train data into train and cross-validation sets while maintaining the same distribution of the 'Class' column\n",
        "train_df, cv_df = train_test_split(init_train_df, test_size=0.2, stratify=init_train_df['Class'])\n",
        "\n",
        "# Extract the target variables\n",
        "y_train = train_df['Class'].values\n",
        "y_cv = cv_df['Class'].values\n",
        "y_test = test_df['Class'].values\n",
        "\n",
        "# Drop the 'Class' column from the datasets\n",
        "x_train = train_df.drop(columns=['Class'])\n",
        "x_cv = cv_df.drop(columns=['Class'])\n",
        "x_test = test_df.drop(columns=['Class'])"
      ]
    },
    {
      "cell_type": "code",
      "execution_count": 14,
      "metadata": {},
      "outputs": [
        {
          "data": {
            "text/html": [
              "<div>\n",
              "<style scoped>\n",
              "    .dataframe tbody tr th:only-of-type {\n",
              "        vertical-align: middle;\n",
              "    }\n",
              "\n",
              "    .dataframe tbody tr th {\n",
              "        vertical-align: top;\n",
              "    }\n",
              "\n",
              "    .dataframe thead th {\n",
              "        text-align: right;\n",
              "    }\n",
              "</style>\n",
              "<table border=\"1\" class=\"dataframe\">\n",
              "  <thead>\n",
              "    <tr style=\"text-align: right;\">\n",
              "      <th></th>\n",
              "      <th>ID</th>\n",
              "      <th>Gene</th>\n",
              "      <th>Variation</th>\n",
              "      <th>Text</th>\n",
              "    </tr>\n",
              "  </thead>\n",
              "  <tbody>\n",
              "    <tr>\n",
              "      <th>2221</th>\n",
              "      <td>2221</td>\n",
              "      <td>PTEN</td>\n",
              "      <td>G129E</td>\n",
              "      <td>tumour suppressor gene pten maps 10q23 3 encod...</td>\n",
              "    </tr>\n",
              "    <tr>\n",
              "      <th>2660</th>\n",
              "      <td>2660</td>\n",
              "      <td>BRCA1</td>\n",
              "      <td>E1250K</td>\n",
              "      <td>mutations brca1 brca2 account majority heredit...</td>\n",
              "    </tr>\n",
              "    <tr>\n",
              "      <th>2147</th>\n",
              "      <td>2147</td>\n",
              "      <td>PTCH1</td>\n",
              "      <td>R571W</td>\n",
              "      <td>abstract hedgehog hh signaling largely suppres...</td>\n",
              "    </tr>\n",
              "    <tr>\n",
              "      <th>1965</th>\n",
              "      <td>1965</td>\n",
              "      <td>CTNNB1</td>\n",
              "      <td>S33F</td>\n",
              "      <td>screened 75 primary hepatocellular carcinomas ...</td>\n",
              "    </tr>\n",
              "    <tr>\n",
              "      <th>2492</th>\n",
              "      <td>2492</td>\n",
              "      <td>BRCA1</td>\n",
              "      <td>A1708E</td>\n",
              "      <td>abstract brca1 gene individuals risk breast ov...</td>\n",
              "    </tr>\n",
              "  </tbody>\n",
              "</table>\n",
              "</div>"
            ],
            "text/plain": [
              "        ID    Gene Variation  \\\n",
              "2221  2221    PTEN     G129E   \n",
              "2660  2660   BRCA1    E1250K   \n",
              "2147  2147   PTCH1     R571W   \n",
              "1965  1965  CTNNB1      S33F   \n",
              "2492  2492   BRCA1    A1708E   \n",
              "\n",
              "                                                   Text  \n",
              "2221  tumour suppressor gene pten maps 10q23 3 encod...  \n",
              "2660  mutations brca1 brca2 account majority heredit...  \n",
              "2147  abstract hedgehog hh signaling largely suppres...  \n",
              "1965  screened 75 primary hepatocellular carcinomas ...  \n",
              "2492  abstract brca1 gene individuals risk breast ov...  "
            ]
          },
          "execution_count": 14,
          "metadata": {},
          "output_type": "execute_result"
        }
      ],
      "source": [
        "x_train.head()"
      ]
    },
    {
      "cell_type": "code",
      "execution_count": 15,
      "metadata": {},
      "outputs": [
        {
          "data": {
            "text/html": [
              "<div>\n",
              "<style scoped>\n",
              "    .dataframe tbody tr th:only-of-type {\n",
              "        vertical-align: middle;\n",
              "    }\n",
              "\n",
              "    .dataframe tbody tr th {\n",
              "        vertical-align: top;\n",
              "    }\n",
              "\n",
              "    .dataframe thead th {\n",
              "        text-align: right;\n",
              "    }\n",
              "</style>\n",
              "<table border=\"1\" class=\"dataframe\">\n",
              "  <thead>\n",
              "    <tr style=\"text-align: right;\">\n",
              "      <th></th>\n",
              "      <th>ID</th>\n",
              "      <th>Gene</th>\n",
              "      <th>Variation</th>\n",
              "      <th>Text</th>\n",
              "    </tr>\n",
              "  </thead>\n",
              "  <tbody>\n",
              "    <tr>\n",
              "      <th>1019</th>\n",
              "      <td>1019</td>\n",
              "      <td>TSC2</td>\n",
              "      <td>H597Y</td>\n",
              "      <td>tuberous sclerosis complex tsc autosomal domin...</td>\n",
              "    </tr>\n",
              "    <tr>\n",
              "      <th>84</th>\n",
              "      <td>84</td>\n",
              "      <td>RIT1</td>\n",
              "      <td>A77T</td>\n",
              "      <td>abstract rasopathies autosomal dominant disord...</td>\n",
              "    </tr>\n",
              "    <tr>\n",
              "      <th>2346</th>\n",
              "      <td>2346</td>\n",
              "      <td>JAK2</td>\n",
              "      <td>R683G</td>\n",
              "      <td>children syndrome greatly increased risk acute...</td>\n",
              "    </tr>\n",
              "    <tr>\n",
              "      <th>1086</th>\n",
              "      <td>1086</td>\n",
              "      <td>EZH2</td>\n",
              "      <td>A677G</td>\n",
              "      <td>trimethylation histone h3 lysine 27 h3k27me3 r...</td>\n",
              "    </tr>\n",
              "    <tr>\n",
              "      <th>930</th>\n",
              "      <td>930</td>\n",
              "      <td>PDGFRA</td>\n",
              "      <td>F808L</td>\n",
              "      <td>activating mutations platelet derived growth f...</td>\n",
              "    </tr>\n",
              "  </tbody>\n",
              "</table>\n",
              "</div>"
            ],
            "text/plain": [
              "        ID    Gene Variation  \\\n",
              "1019  1019    TSC2     H597Y   \n",
              "84      84    RIT1      A77T   \n",
              "2346  2346    JAK2     R683G   \n",
              "1086  1086    EZH2     A677G   \n",
              "930    930  PDGFRA     F808L   \n",
              "\n",
              "                                                   Text  \n",
              "1019  tuberous sclerosis complex tsc autosomal domin...  \n",
              "84    abstract rasopathies autosomal dominant disord...  \n",
              "2346  children syndrome greatly increased risk acute...  \n",
              "1086  trimethylation histone h3 lysine 27 h3k27me3 r...  \n",
              "930   activating mutations platelet derived growth f...  "
            ]
          },
          "execution_count": 15,
          "metadata": {},
          "output_type": "execute_result"
        }
      ],
      "source": [
        "x_cv.head()"
      ]
    },
    {
      "cell_type": "code",
      "execution_count": 16,
      "metadata": {},
      "outputs": [
        {
          "data": {
            "text/html": [
              "<div>\n",
              "<style scoped>\n",
              "    .dataframe tbody tr th:only-of-type {\n",
              "        vertical-align: middle;\n",
              "    }\n",
              "\n",
              "    .dataframe tbody tr th {\n",
              "        vertical-align: top;\n",
              "    }\n",
              "\n",
              "    .dataframe thead th {\n",
              "        text-align: right;\n",
              "    }\n",
              "</style>\n",
              "<table border=\"1\" class=\"dataframe\">\n",
              "  <thead>\n",
              "    <tr style=\"text-align: right;\">\n",
              "      <th></th>\n",
              "      <th>ID</th>\n",
              "      <th>Gene</th>\n",
              "      <th>Variation</th>\n",
              "      <th>Text</th>\n",
              "    </tr>\n",
              "  </thead>\n",
              "  <tbody>\n",
              "    <tr>\n",
              "      <th>761</th>\n",
              "      <td>761</td>\n",
              "      <td>ERBB2</td>\n",
              "      <td>G309E</td>\n",
              "      <td>assessed somatic alleles six receptor tyrosine...</td>\n",
              "    </tr>\n",
              "    <tr>\n",
              "      <th>742</th>\n",
              "      <td>742</td>\n",
              "      <td>ERBB2</td>\n",
              "      <td>H878Y</td>\n",
              "      <td>overexpression erbb2 kinase observed one third...</td>\n",
              "    </tr>\n",
              "    <tr>\n",
              "      <th>2684</th>\n",
              "      <td>2684</td>\n",
              "      <td>BRAF</td>\n",
              "      <td>A598T</td>\n",
              "      <td>mutational hotspots indicate selective pressur...</td>\n",
              "    </tr>\n",
              "    <tr>\n",
              "      <th>137</th>\n",
              "      <td>137</td>\n",
              "      <td>LATS2</td>\n",
              "      <td>Deletion</td>\n",
              "      <td>malignant mesothelioma mm aggressive neoplasm ...</td>\n",
              "    </tr>\n",
              "    <tr>\n",
              "      <th>2793</th>\n",
              "      <td>2793</td>\n",
              "      <td>BRCA2</td>\n",
              "      <td>C1265S</td>\n",
              "      <td>abstract classification rare missense variants...</td>\n",
              "    </tr>\n",
              "  </tbody>\n",
              "</table>\n",
              "</div>"
            ],
            "text/plain": [
              "        ID   Gene Variation                                               Text\n",
              "761    761  ERBB2     G309E  assessed somatic alleles six receptor tyrosine...\n",
              "742    742  ERBB2     H878Y  overexpression erbb2 kinase observed one third...\n",
              "2684  2684   BRAF     A598T  mutational hotspots indicate selective pressur...\n",
              "137    137  LATS2  Deletion  malignant mesothelioma mm aggressive neoplasm ...\n",
              "2793  2793  BRCA2    C1265S  abstract classification rare missense variants..."
            ]
          },
          "execution_count": 16,
          "metadata": {},
          "output_type": "execute_result"
        }
      ],
      "source": [
        "x_test.head()"
      ]
    },
    {
      "cell_type": "code",
      "execution_count": 17,
      "metadata": {},
      "outputs": [
        {
          "data": {
            "text/plain": [
              "array([4, 5, 5, ..., 4, 4, 4])"
            ]
          },
          "execution_count": 17,
          "metadata": {},
          "output_type": "execute_result"
        }
      ],
      "source": [
        "y_train"
      ]
    },
    {
      "cell_type": "markdown",
      "metadata": {
        "id": "sgJTtpyhZphi"
      },
      "source": [
        "### Task 8: Check Distribution of Dataset"
      ]
    },
    {
      "cell_type": "code",
      "execution_count": 18,
      "metadata": {
        "id": "IR-FaamGZqXr"
      },
      "outputs": [
        {
          "data": {
            "image/png": "[encoded data removed]",
            "text/plain": [
              "<Figure size 640x480 with 1 Axes>"
            ]
          },
          "metadata": {},
          "output_type": "display_data"
        },
        {
          "data": {
            "image/png": "[encoded data removed]",
            "text/plain": [
              "<Figure size 640x480 with 1 Axes>"
            ]
          },
          "metadata": {},
          "output_type": "display_data"
        },
        {
          "data": {
            "image/png": "[encoded data removed]",
            "text/plain": [
              "<Figure size 640x480 with 1 Axes>"
            ]
          },
          "metadata": {},
          "output_type": "display_data"
        }
      ],
      "source": [
        "def plot_distribution(data_distribution, title):\n",
        "    data_distribution.plot(kind='bar')\n",
        "    plt.xlabel('Class')\n",
        "    plt.ylabel('No. of data points')\n",
        "    plt.title(title)\n",
        "    plt.grid()\n",
        "    plt.show()\n",
        "\n",
        "\n",
        "train_class_distribution = train_df['Class'].value_counts()\n",
        "test_class_distribution = test_df['Class'].value_counts()\n",
        "cv_class_distribution = cv_df['Class'].value_counts()\n",
        "\n",
        "plot_distribution(train_class_distribution, 'Training data class distribution')\n",
        "plot_distribution(test_class_distribution, 'Test data class distribition')\n",
        "plot_distribution(cv_class_distribution, 'Cross validation data class distribution')"
      ]
    },
    {
      "cell_type": "markdown",
      "metadata": {
        "id": "mtvl8ImIZt-C"
      },
      "source": [
        "## Category: Measure Performance Using Random Model"
      ]
    },
    {
      "cell_type": "markdown",
      "metadata": {
        "id": "Oi5cb5c-aSsE"
      },
      "source": [
        "### Task 9: Define a Function to Plot Performance Matrices"
      ]
    },
    {
      "cell_type": "code",
      "execution_count": 19,
      "metadata": {
        "id": "hQ1CRPblaMay"
      },
      "outputs": [],
      "source": [
        "def plot_heatmap(matrix, labels, title):\n",
        "    plt.figure()\n",
        "    sns.heatmap(matrix, annot=True, xticklabels=labels, yticklabels=labels)\n",
        "    plt.xlabel('Predicted Class')\n",
        "    plt.ylabel('Original Class')\n",
        "    plt.title(title)\n",
        "    plt.show()\n",
        "\n",
        "\n",
        "def plot_confusion_matrix(test_y, predict_y):\n",
        "    C = confusion_matrix(test_y, predict_y)\n",
        "    labels = [1, 2, 3, 4, 5, 6, 7, 8, 9]\n",
        "\n",
        "    # Calculate the recall matrix\n",
        "    recall_matrix = C / C.sum(axis=1, keepdims=True)\n",
        "\n",
        "    # Calculate the precision matrix\n",
        "    precision_matrix = C / C.sum(axis=0, keepdims=True)\n",
        "\n",
        "    # Plot the confusion matrix\n",
        "    plot_heatmap(C, labels, \"Confusion matrix\")\n",
        "\n",
        "    # Plot the precision matrix\n",
        "    plot_heatmap(precision_matrix, labels, \"Precision matrix (sum of elements in a column=1)\")\n",
        "\n",
        "    # Plot the recall matrix\n",
        "    plot_heatmap(recall_matrix, labels, \"Recall matrix (sum of elements in a row=1)\")\n",
        "\n",
        "\n"
      ]
    },
    {
      "cell_type": "markdown",
      "metadata": {
        "id": "mn44IC4faUda"
      },
      "source": [
        "### Task 10: Measure Metrics from a Dummy Baseline Model"
      ]
    },
    {
      "cell_type": "code",
      "execution_count": 20,
      "metadata": {
        "id": "9QiAcc9daXw6"
      },
      "outputs": [
        {
          "name": "stdout",
          "output_type": "stream",
          "text": [
            "Log loss on Cross Validation Data using Random Model: 2.4765412335498276\n",
            "Log loss on Test Data using Random Model: 2.5819977926341933\n",
            "Performance matrices for test data\n"
          ]
        },
        {
          "data": {
            "image/png": "[encoded data removed]",
            "text/plain": [
              "<Figure size 640x480 with 2 Axes>"
            ]
          },
          "metadata": {},
          "output_type": "display_data"
        },
        {
          "data": {
            "image/png": "[encoded data removed]",
            "text/plain": [
              "<Figure size 640x480 with 2 Axes>"
            ]
          },
          "metadata": {},
          "output_type": "display_data"
        },
        {
          "data": {
            "image/png": "[encoded data removed]",
            "text/plain": [
              "<Figure size 640x480 with 2 Axes>"
            ]
          },
          "metadata": {},
          "output_type": "display_data"
        }
      ],
      "source": [
        "def generate_random_predictions(data_len):\n",
        "    predicted_y = np.zeros((data_len, 9))\n",
        "    for i in range(data_len):\n",
        "        rand_probs = np.random.rand(1, 9)\n",
        "        predicted_y[i] = rand_probs / rand_probs.sum()\n",
        "    return predicted_y\n",
        "\n",
        "cv_data_len = cv_df.shape[0]\n",
        "test_data_len = test_df.shape[0]\n",
        "\n",
        "# Generate random predictions for CV data\n",
        "cv_predicted_y = generate_random_predictions(cv_data_len)\n",
        "print(\"Log loss on Cross Validation Data using Random Model:\", log_loss(y_cv, cv_predicted_y))\n",
        "\n",
        "# Generate random predictions for test data\n",
        "test_predicted_y = generate_random_predictions(test_data_len)\n",
        "print(\"Log loss on Test Data using Random Model:\", log_loss(y_test, test_predicted_y))\n",
        "\n",
        "# Plot performance matrix for test data\n",
        "predicted_y = np.argmax(test_predicted_y, axis=1)\n",
        "print (\"Performance matrices for test data\")\n",
        "plot_confusion_matrix(y_test, predicted_y + 1)"
      ]
    },
    {
      "cell_type": "markdown",
      "metadata": {
        "id": "vjaegnP0aa8y"
      },
      "source": [
        "## Category: Encode the Features"
      ]
    },
    {
      "cell_type": "markdown",
      "metadata": {
        "id": "4vakqJ5yaif0"
      },
      "source": [
        "### Task 11: Define the Functions for Response Coding"
      ]
    },
    {
      "cell_type": "code",
      "execution_count": 21,
      "metadata": {
        "id": "mrqDtGqkahdQ"
      },
      "outputs": [],
      "source": [
        "def extract_response_coding_probs(alpha, feature, df):\n",
        "    total_classes = 9\n",
        "    # Group the DataFrame by the feature and Class cloumns and get counts\n",
        "    grouped = df.groupby([feature, 'Class']).size().reset_index(name='count')\n",
        "\n",
        "    grouped.head()\n",
        "\n",
        "    response_code_probs = {}\n",
        "    feature_counts = df[feature].value_counts().to_dict()\n",
        "\n",
        "    for value in feature_counts:\n",
        "        value_group = grouped[grouped[feature] == value]\n",
        "        class_probs = []\n",
        "        for k in range(1, total_classes + 1):\n",
        "            # Check if the current class exists for the current feature value\n",
        "            if k in value_group['Class'].values:\n",
        "                count = value_group[value_group['Class'] == k]['count'].values[0]\n",
        "            else:\n",
        "                count = 0\n",
        "\n",
        "            numerator = count + alpha\n",
        "            denominator = feature_counts[value] + total_classes * alpha\n",
        "            class_probs.append(numerator / denominator)\n",
        "        response_code_probs[value] = class_probs\n",
        "\n",
        "    return response_code_probs"
      ]
    },
    {
      "cell_type": "code",
      "execution_count": 22,
      "metadata": {},
      "outputs": [],
      "source": [
        "def generate_response_coded_feature(feature, df, response_code_probs):\n",
        "    total_classes = 9\n",
        "    default_prob = [1 / total_classes] * total_classes\n",
        "\n",
        "    # Use the map() method to map the values of the feature column to the corresponding probabilities.\n",
        "    # The get() method on the response_code_probs dictionary allows you to specify the default_prob as a fallback.\n",
        "    response_coded_feature = df[feature].map(lambda x: response_code_probs.get(x, default_prob))\n",
        "\n",
        "    return response_coded_feature.tolist()"
      ]
    },
    {
      "cell_type": "markdown",
      "metadata": {
        "id": "dD5cWIZmbBok"
      },
      "source": [
        "### Task 12: Run the Function on 'Gene' and 'Variation' Features"
      ]
    },
    {
      "cell_type": "code",
      "execution_count": 23,
      "metadata": {
        "id": "TNAxtl3zbLfd"
      },
      "outputs": [],
      "source": [
        "alpha = 1\n",
        "\n",
        "gene_dict = extract_response_coding_probs(alpha, 'Gene', train_df)\n",
        "\n",
        "# Train the Gene feature\n",
        "train_gene_rc = np.array(generate_response_coded_feature(\"Gene\", train_df, gene_dict))\n",
        "# Test the Gene feature\n",
        "test_gene_rc = np.array(generate_response_coded_feature(\"Gene\", test_df, gene_dict))\n",
        "# Cross validate the Gene feature\n",
        "cv_gene_rc = np.array(generate_response_coded_feature(\"Gene\", cv_df, gene_dict))\n",
        "\n",
        "variation_dict=extract_response_coding_probs(alpha, 'Variation', train_df)\n",
        "\n",
        "# Train the Variation feature\n",
        "train_variation_rc = np.array(generate_response_coded_feature(\"Variation\", train_df, variation_dict))\n",
        "# Test the Variation feature\n",
        "test_variation_rc = np.array(generate_response_coded_feature(\"Variation\", test_df, variation_dict))\n",
        "# Cross validate the Variation feature\n",
        "cv_variation_rc = np.array(generate_response_coded_feature(\"Variation\", cv_df, variation_dict))"
      ]
    },
    {
      "cell_type": "code",
      "execution_count": 24,
      "metadata": {},
      "outputs": [
        {
          "data": {
            "text/plain": [
              "array([[0.01111111, 0.01111111, 0.05555556, ..., 0.01111111, 0.01111111,\n",
              "        0.01111111],\n",
              "       [0.25730994, 0.00584795, 0.08187135, ..., 0.00584795, 0.00584795,\n",
              "        0.00584795],\n",
              "       [0.18181818, 0.09090909, 0.09090909, ..., 0.09090909, 0.09090909,\n",
              "        0.09090909],\n",
              "       ...,\n",
              "       [0.10526316, 0.05263158, 0.05263158, ..., 0.05263158, 0.05263158,\n",
              "        0.05263158],\n",
              "       [0.35      , 0.025     , 0.025     , ..., 0.05      , 0.025     ,\n",
              "        0.025     ],\n",
              "       [0.01111111, 0.01111111, 0.05555556, ..., 0.01111111, 0.01111111,\n",
              "        0.01111111]])"
            ]
          },
          "execution_count": 24,
          "metadata": {},
          "output_type": "execute_result"
        }
      ],
      "source": [
        "train_gene_rc"
      ]
    },
    {
      "cell_type": "code",
      "execution_count": 25,
      "metadata": {},
      "outputs": [
        {
          "data": {
            "text/plain": [
              "array([[0.1, 0.1, 0.1, ..., 0.1, 0.1, 0.1],\n",
              "       [0.1, 0.1, 0.1, ..., 0.1, 0.1, 0.1],\n",
              "       [0.1, 0.1, 0.1, ..., 0.1, 0.1, 0.1],\n",
              "       ...,\n",
              "       [0.1, 0.1, 0.1, ..., 0.1, 0.1, 0.1],\n",
              "       [0.1, 0.1, 0.1, ..., 0.1, 0.1, 0.1],\n",
              "       [0.1, 0.1, 0.1, ..., 0.1, 0.1, 0.1]])"
            ]
          },
          "execution_count": 25,
          "metadata": {},
          "output_type": "execute_result"
        }
      ],
      "source": [
        "train_variation_rc"
      ]
    },
    {
      "cell_type": "markdown",
      "metadata": {
        "id": "NkQkPDLJbMfI"
      },
      "source": [
        "### Task 13: Count Words in Text Field"
      ]
    },
    {
      "cell_type": "code",
      "execution_count": 26,
      "metadata": {
        "id": "Zz41UsHhbPuU"
      },
      "outputs": [],
      "source": [
        "def extract_counter(cls_text):\n",
        "    # Use the apply() method to split each row's 'TEXT' into a list of words and then concatenate those lists\n",
        "    all_words = cls_text['Text'].apply(lambda x: x.split()).explode().tolist()\n",
        " \n",
        "    # Use the Counter() method to count the occurrences of each word\n",
        "    word_count = Counter(all_words)\n",
        " \n",
        "    return word_count"
      ]
    },
    {
      "cell_type": "code",
      "execution_count": 27,
      "metadata": {},
      "outputs": [],
      "source": [
        "dict_list = []\n",
        "# dict_list is a list containing 9 dictionaries, each corresponding to a class\n",
        "for i in range(1,10):\n",
        "    cls_text = train_df[train_df['Class']==i]\n",
        "    dict_list.append(extract_counter(cls_text))\n",
        "\n",
        "# total_dict is built on the entire training text data\n",
        "total_dict = extract_counter(train_df)"
      ]
    },
    {
      "cell_type": "code",
      "execution_count": 28,
      "metadata": {},
      "outputs": [
        {
          "data": {
            "text/plain": [
              "9"
            ]
          },
          "execution_count": 28,
          "metadata": {},
          "output_type": "execute_result"
        }
      ],
      "source": [
        "len(dict_list)"
      ]
    },
    {
      "cell_type": "code",
      "execution_count": 29,
      "metadata": {},
      "outputs": [
        {
          "data": {
            "text/plain": [
              "Counter({'tumour': 6155,\n",
              "         'suppressor': 6080,\n",
              "         'gene': 38998,\n",
              "         'pten': 21256,\n",
              "         'maps': 590,\n",
              "         '10q23': 93,\n",
              "         '3': 87370,\n",
              "         'encodes': 1654,\n",
              "         '403': 157,\n",
              "         'amino': 18031,\n",
              "         'acid': 12941,\n",
              "         'dual': 1471,\n",
              "         'specificity': 3796,\n",
              "         'phosphatase': 6035,\n",
              "         'protein': 54320,\n",
              "         'tyrosine': 12704,\n",
              "         'ptpase': 36,\n",
              "         'shown': 28164,\n",
              "         'recently': 6601,\n",
              "         'play': 2628,\n",
              "         'broad': 1480,\n",
              "         'role': 13282,\n",
              "         'human': 24705,\n",
              "         'malignancy': 907,\n",
              "         'somatic': 9803,\n",
              "         'deletions': 5899,\n",
              "         'mutations': 152413,\n",
              "         'observed': 21500,\n",
              "         'sporadic': 2837,\n",
              "         'breast': 14524,\n",
              "         'brain': 2666,\n",
              "         'prostate': 4462,\n",
              "         'kidney': 1208,\n",
              "         'cancer': 63852,\n",
              "         'cell': 81674,\n",
              "         'lines': 22036,\n",
              "         'several': 12574,\n",
              "         'primary': 12310,\n",
              "         'tumours': 4575,\n",
              "         'endometrial': 2530,\n",
              "         'carcinomas': 3280,\n",
              "         'malignant': 3272,\n",
              "         'melanoma': 10774,\n",
              "         'thyroid': 2010,\n",
              "         'addition': 11912,\n",
              "         'identified': 24238,\n",
              "         'susceptibility': 1570,\n",
              "         'two': 33867,\n",
              "         'hamartoma': 219,\n",
              "         'syndromes': 1165,\n",
              "         'cowden': 345,\n",
              "         'disease': 16543,\n",
              "         'cd': 1163,\n",
              "         'mim': 746,\n",
              "         '158350': 7,\n",
              "         'bannayan': 71,\n",
              "         'zonana': 35,\n",
              "         'bzs': 47,\n",
              "         'ruvalcaba': 42,\n",
              "         'riley': 45,\n",
              "         'smith': 236,\n",
              "         'syndrome': 5600,\n",
              "         '153480': 7,\n",
              "         'constitutive': 4414,\n",
              "         'dna': 36040,\n",
              "         '37': 6997,\n",
              "         'families': 5438,\n",
              "         'seven': 3475,\n",
              "         'screened': 1820,\n",
              "         'germline': 6282,\n",
              "         '30': 13231,\n",
              "         '81': 1512,\n",
              "         'including': 15995,\n",
              "         'missense': 15548,\n",
              "         'nonsense': 2236,\n",
              "         'point': 7728,\n",
              "         'insertions': 2655,\n",
              "         'deletion': 10757,\n",
              "         'insertion': 3342,\n",
              "         'splice': 4279,\n",
              "         'site': 17261,\n",
              "         'scattered': 214,\n",
              "         'entire': 1850,\n",
              "         'length': 5629,\n",
              "         'exception': 1268,\n",
              "         'first': 12169,\n",
              "         'fourth': 502,\n",
              "         'last': 1558,\n",
              "         'exons': 7320,\n",
              "         'hot': 1604,\n",
              "         'spot': 1438,\n",
              "         'mutation': 67352,\n",
              "         'exon': 24557,\n",
              "         '5': 67243,\n",
              "         'contains': 3794,\n",
              "         'core': 4953,\n",
              "         'motif': 5454,\n",
              "         '13': 14665,\n",
              "         '43': 3499,\n",
              "         '23': 8145,\n",
              "         'within': 14283,\n",
              "         'majority': 4255,\n",
              "         'five': 6410,\n",
              "         'possibly': 1702,\n",
              "         'pointing': 236,\n",
              "         'functional': 21180,\n",
              "         'significance': 4656,\n",
              "         'region': 14596,\n",
              "         'four': 9999,\n",
              "         '57': 2799,\n",
              "         'studied': 3272,\n",
              "         'interestingly': 5083,\n",
              "         'none': 3606,\n",
              "         'also': 42754,\n",
              "         'worthy': 64,\n",
              "         'note': 3255,\n",
              "         'single': 10175,\n",
              "         'r233x': 18,\n",
              "         'unrelated': 883,\n",
              "         'one': 25719,\n",
              "         'family': 13493,\n",
              "         'genotype': 1733,\n",
              "         'phenotype': 6479,\n",
              "         'studies': 20347,\n",
              "         'performed': 15564,\n",
              "         'small': 11201,\n",
              "         'group': 9872,\n",
              "         'however': 20231,\n",
              "         'analysis': 37583,\n",
              "         'inthe': 18,\n",
              "         'revealed': 7781,\n",
              "         'possible': 5911,\n",
              "         'associations': 526,\n",
              "         'follow': 1324,\n",
              "         'independent': 12217,\n",
              "         'analyses': 7081,\n",
              "         'association': 7032,\n",
              "         'noted': 2367,\n",
              "         'correlation': 3957,\n",
              "         'presence': 12821,\n",
              "         'absence': 7228,\n",
              "         'type': 46175,\n",
              "         'involvement': 1258,\n",
              "         'unaffected': 1053,\n",
              "         'versus': 3406,\n",
              "         'benign': 1898,\n",
              "         'specifically': 3507,\n",
              "         'directly': 4946,\n",
              "         'secondly': 83,\n",
              "         'appeared': 1256,\n",
              "         'interdependent': 29,\n",
              "         'upstream': 2140,\n",
              "         'containing': 11997,\n",
              "         'major': 4195,\n",
              "         'organ': 524,\n",
              "         'systems': 1788,\n",
              "         'central': 2150,\n",
              "         'nervous': 455,\n",
              "         'system': 7080,\n",
              "         'skin': 2567,\n",
              "         'gastrointestinal': 1264,\n",
              "         'tract': 758,\n",
              "         'observations': 3493,\n",
              "         'would': 8047,\n",
              "         'need': 1863,\n",
              "         'confirmed': 6756,\n",
              "         'studying': 265,\n",
              "         'larger': 2965,\n",
              "         'number': 17980,\n",
              "         'tensin': 372,\n",
              "         'homolog': 835,\n",
              "         'unique': 3406,\n",
              "         'mammals': 468,\n",
              "         'terms': 1557,\n",
              "         'tumor': 44417,\n",
              "         'activity': 50448,\n",
              "         'exerted': 231,\n",
              "         'dephosphorylation': 646,\n",
              "         'lipid': 2141,\n",
              "         'second': 7568,\n",
              "         'messenger': 349,\n",
              "         'pip3': 1796,\n",
              "         'phosphatidylinositol': 1233,\n",
              "         '4': 54310,\n",
              "         'trisphosphate': 270,\n",
              "         'activates': 1690,\n",
              "         'phosphoinositide': 1060,\n",
              "         'kinase': 43629,\n",
              "         'akt': 12502,\n",
              "         'mtor': 6840,\n",
              "         'mammalian': 3570,\n",
              "         'target': 10274,\n",
              "         'rapamycin': 1858,\n",
              "         'oncogenic': 11409,\n",
              "         'pathway': 17428,\n",
              "         'loss': 15339,\n",
              "         'function': 24179,\n",
              "         'frequent': 3163,\n",
              "         'patients': 53905,\n",
              "         'related': 7955,\n",
              "         'phtss': 84,\n",
              "         'mutated': 12578,\n",
              "         'autism': 659,\n",
              "         'spectrum': 2635,\n",
              "         'disorders': 1717,\n",
              "         'asds': 85,\n",
              "         'although': 15637,\n",
              "         'information': 7453,\n",
              "         'available': 8787,\n",
              "         'report': 4169,\n",
              "         'comprehensive': 1902,\n",
              "         'vivo': 8910,\n",
              "         'using': 40850,\n",
              "         'heterologous': 691,\n",
              "         'yeast': 5841,\n",
              "         'reconstitution': 340,\n",
              "         'ala': 1456,\n",
              "         'scanning': 821,\n",
              "         'mutagenesis': 4130,\n",
              "         'catalytic': 8012,\n",
              "         'loops': 1931,\n",
              "         'outlined': 269,\n",
              "         'critical': 5128,\n",
              "         'residues': 18997,\n",
              "         'p': 37755,\n",
              "         'loop': 11392,\n",
              "         'mimic': 480,\n",
              "         'like': 6508,\n",
              "         'proteins': 26687,\n",
              "         'tpte': 252,\n",
              "         'tpip': 294,\n",
              "         'tensins': 126,\n",
              "         'auxilins': 126,\n",
              "         'affected': 5860,\n",
              "         'variably': 131,\n",
              "         'whereas': 12157,\n",
              "         'phts': 2114,\n",
              "         'associated': 25835,\n",
              "         'targeting': 5200,\n",
              "         'produced': 2147,\n",
              "         'complete': 4758,\n",
              "         'conversely': 1240,\n",
              "         'substitutions': 6924,\n",
              "         'well': 18622,\n",
              "         'wpd': 712,\n",
              "         'ti': 734,\n",
              "         'displayed': 3570,\n",
              "         'partial': 3316,\n",
              "         'many': 7820,\n",
              "         'cases': 17948,\n",
              "         'd92n': 306,\n",
              "         'partially': 1966,\n",
              "         'active': 10712,\n",
              "         'supporting': 2227,\n",
              "         'notion': 1144,\n",
              "         'asp92': 678,\n",
              "         'residue': 9440,\n",
              "         'might': 8084,\n",
              "         'general': 2705,\n",
              "         'panel': 5763,\n",
              "         'asd': 1808,\n",
              "         'hereditary': 1267,\n",
              "         'substantially': 1045,\n",
              "         'abrogate': 662,\n",
              "         'findings': 6417,\n",
              "         'reveal': 1707,\n",
              "         'distinctive': 351,\n",
              "         'patterns': 1941,\n",
              "         'among': 8784,\n",
              "         'found': 23721,\n",
              "         'tumors': 34514,\n",
              "         'could': 13813,\n",
              "         'relevant': 3313,\n",
              "         'therapy': 7864,\n",
              "         'topic': 103,\n",
              "         'catalysis': 795,\n",
              "         'phosphoric': 68,\n",
              "         'monoester': 42,\n",
              "         'hydrolases': 45,\n",
              "         'yeasts': 94,\n",
              "         'neoplasms': 1250,\n",
              "         'issue': 971,\n",
              "         'section': 2007,\n",
              "         'articles': 253,\n",
              "         'introduction': 4007,\n",
              "         'deleted': 1617,\n",
              "         'chromosome': 4916,\n",
              "         '10': 35709,\n",
              "         'orthologs': 448,\n",
              "         'lower': 6504,\n",
              "         'animals': 1771,\n",
              "         'plants': 58,\n",
              "         'fungi': 55,\n",
              "         '1': 136205,\n",
              "         'exist': 1173,\n",
              "         'whose': 2191,\n",
              "         'poorly': 1120,\n",
              "         'explored': 584,\n",
              "         'include': 3695,\n",
              "         'voltage': 72,\n",
              "         'sensor': 185,\n",
              "         'ciona': 58,\n",
              "         'intestinalis': 52,\n",
              "         'actin': 2088,\n",
              "         'binding': 40894,\n",
              "         '2': 98263,\n",
              "         'clathrin': 79,\n",
              "         'auxilin': 126,\n",
              "         'based': 15233,\n",
              "         'ability': 10137,\n",
              "         'dephosphorylate': 286,\n",
              "         'phosphate': 2673,\n",
              "         'inositol': 466,\n",
              "         'ring': 3199,\n",
              "         'resulting': 5307,\n",
              "         'bisphosphate': 267,\n",
              "         'product': 2606,\n",
              "         'pip2': 288,\n",
              "         'thus': 12579,\n",
              "         'broadly': 344,\n",
              "         'inhibiting': 1449,\n",
              "         'pi3k': 7882,\n",
              "         'dependent': 11833,\n",
              "         'signaling': 22905,\n",
              "         '8': 27914,\n",
              "         'exerts': 297,\n",
              "         'counteracting': 151,\n",
              "         'anti': 14271,\n",
              "         'apoptotic': 2125,\n",
              "         'growth': 24767,\n",
              "         'stimulatory': 267,\n",
              "         'effects': 12167,\n",
              "         'pdk1': 299,\n",
              "         'b': 38333,\n",
              "         'pkb': 845,\n",
              "         'rely': 362,\n",
              "         'activation': 32164,\n",
              "         '9': 22458,\n",
              "         'make': 1183,\n",
              "         'frequently': 4508,\n",
              "         'malignancies': 2269,\n",
              "         'together': 5638,\n",
              "         'p53': 25231,\n",
              "         'especially': 1658,\n",
              "         'solid': 2178,\n",
              "         '11': 18843,\n",
              "         '14': 16199,\n",
              "         'lead': 3895,\n",
              "         'inherited': 1123,\n",
              "         'generally': 1895,\n",
              "         'known': 12841,\n",
              "         '15': 17535,\n",
              "         '17': 12206,\n",
              "         'considered': 4300,\n",
              "         'haploinsufficient': 224,\n",
              "         'prevent': 1162,\n",
              "         'certain': 2010,\n",
              "         'suggesting': 8080,\n",
              "         'dosage': 480,\n",
              "         'important': 10031,\n",
              "         'must': 1153,\n",
              "         'influence': 1764,\n",
              "         'given': 5695,\n",
              "         'enzyme': 3494,\n",
              "         '18': 13669,\n",
              "         'besides': 710,\n",
              "         'clear': 3563,\n",
              "         'described': 17273,\n",
              "         'neurodevelopmental': 99,\n",
              "         'developmental': 1535,\n",
              "         'delay': 401,\n",
              "         'dd': 1590,\n",
              "         '19': 12021,\n",
              "         '22': 8815,\n",
              "         'encoded': 1804,\n",
              "         'done': 2120,\n",
              "         'understand': 1391,\n",
              "         'putative': 2431,\n",
              "         'neurodevelopment': 44,\n",
              "         'functions': 4809,\n",
              "         'contribute': 3658,\n",
              "         'suppressive': 1049,\n",
              "         '25': 11450,\n",
              "         'buffering': 43,\n",
              "         'virtue': 137,\n",
              "         'assumed': 952,\n",
              "         'key': 3878,\n",
              "         'precise': 747,\n",
              "         'dissection': 320,\n",
              "         'properties': 3210,\n",
              "         'highly': 7551,\n",
              "         'crystal': 3774,\n",
              "         'structure': 16151,\n",
              "         '26': 7894,\n",
              "         'pocket': 3162,\n",
              "         'similar': 15543,\n",
              "         'phosphatases': 617,\n",
              "         'ptps': 393,\n",
              "         'thr': 1497,\n",
              "         'ser': 1474,\n",
              "         'tyr': 1220,\n",
              "         'predicted': 7068,\n",
              "         'sequence': 17372,\n",
              "         'richer': 45,\n",
              "         'basic': 1121,\n",
              "         'explained': 964,\n",
              "         'acidic': 666,\n",
              "         'phosphopeptides': 123,\n",
              "         '27': 6548,\n",
              "         'wider': 207,\n",
              "         'accommodate': 384,\n",
              "         'rather': 2880,\n",
              "         'bulky': 332,\n",
              "         'phosphorylated': 7341,\n",
              "         'moiety': 371,\n",
              "         'constitutes': 367,\n",
              "         'polar': 611,\n",
              "         'head': 1274,\n",
              "         'signature': 1034,\n",
              "         '123': 725,\n",
              "         'hckagkgr': 42,\n",
              "         '130': 720,\n",
              "         'cys124': 97,\n",
              "         'arg130': 44,\n",
              "         'located': 6247,\n",
              "         'bottom': 1635,\n",
              "         'walls': 89,\n",
              "         'delimited': 51,\n",
              "         'part': 4110,\n",
              "         'designed': 1584,\n",
              "         'equivalent': 1907,\n",
              "         'ptp1b': 104,\n",
              "         'named': 376,\n",
              "         'conserved': 7058,\n",
              "         'ile': 277,\n",
              "         'thought': 1810,\n",
              "         'fact': 3607,\n",
              "         'identical': 2257,\n",
              "         'fashion': 761,\n",
              "         'proton': 184,\n",
              "         'donor': 821,\n",
              "         'led': 3078,\n",
              "         'hypothesis': 2879,\n",
              "         'may': 31346,\n",
              "         'serve': 1088,\n",
              "         'allows': 1416,\n",
              "         'protonation': 65,\n",
              "         'leaving': 274,\n",
              "         'reaction': 3970,\n",
              "         'vitro': 13889,\n",
              "         'indicated': 11529,\n",
              "         'act': 1962,\n",
              "         '28': 6996,\n",
              "         '29': 7242,\n",
              "         'conclusive': 206,\n",
              "         'analyze': 1063,\n",
              "         'contribution': 1423,\n",
              "         'previously': 18213,\n",
              "         'validated': 1759,\n",
              "         'humanized': 124,\n",
              "         'model': 10671,\n",
              "         'study': 23291,\n",
              "         'co': 7867,\n",
              "         'expression': 50523,\n",
              "         '31': 6013,\n",
              "         'briefly': 1216,\n",
              "         'hyperactive': 325,\n",
              "         'p110': 6383,\n",
              "         'subunit': 4047,\n",
              "         'class': 7285,\n",
              "         'results': 29653,\n",
              "         'high': 17539,\n",
              "         'toxicity': 1298,\n",
              "         'cells': 118362,\n",
              "         'result': 8583,\n",
              "         'depletion': 1603,\n",
              "         'essential': 3576,\n",
              "         'pools': 531,\n",
              "         'restores': 246,\n",
              "         'levels': 22310,\n",
              "         'suppresses': 656,\n",
              "         'gfp': 5883,\n",
              "         'tagged': 3908,\n",
              "         'allowed': 1490,\n",
              "         'detection': 3379,\n",
              "         'generated': 5679,\n",
              "         'localized': 1699,\n",
              "         'providing': 1202,\n",
              "         'visual': 217,\n",
              "         'readout': 217,\n",
              "         'activities': 4856,\n",
              "         '32': 6752,\n",
              "         'present': 9755,\n",
              "         'extensive': 1364,\n",
              "         'directed': 3234,\n",
              "         'bioassays': 43,\n",
              "         'combine': 196,\n",
              "         'advantages': 242,\n",
              "         'powerful': 505,\n",
              "         'genetics': 1462,\n",
              "         'ever': 218,\n",
              "         'growing': 868,\n",
              "         'availability': 561,\n",
              "         'post': 1853,\n",
              "         'genomic': 9061,\n",
              "         'tools': 746,\n",
              "         'ease': 143,\n",
              "         'safety': 437,\n",
              "         'manipulation': 148,\n",
              "         'fast': 388,\n",
              "         'achievement': 91,\n",
              "         'offer': 483,\n",
              "         'insights': 1051,\n",
              "         'provide': 6550,\n",
              "         'platform': 776,\n",
              "         'compare': 1382,\n",
              "         'inactivation': 3413,\n",
              "         'reveals': 988,\n",
              "         'confer': 3222,\n",
              "         'compared': 16731,\n",
              "         'evidenced': 474,\n",
              "         'abundance': 732,\n",
              "         'encoding': 4495,\n",
              "         '33': 6230,\n",
              "         'definition': 540,\n",
              "         'relation': 457,\n",
              "         'samples': 17198,\n",
              "         'oncology': 1228,\n",
              "         'conformed': 67,\n",
              "         'three': 20851,\n",
              "         '88': 1385,\n",
              "         '98': 1578,\n",
              "         '121': 746,\n",
              "         '131': 426,\n",
              "         '160': 653,\n",
              "         '171': 378,\n",
              "         'fig': 67552,\n",
              "         '1a': 4507,\n",
              "         'cysteine': 1280,\n",
              "         'species': 2215,\n",
              "         'eukaryotes': 248,\n",
              "         'divergent': 326,\n",
              "         '1b': 4119,\n",
              "         'test': 8319,\n",
              "         'individual': 5376,\n",
              "         'assessed': 4883,\n",
              "         'saccharomyces': 279,\n",
              "         'cerevisiae': 1013,\n",
              "         'illustrated': 646,\n",
              "         'figure': 63467,\n",
              "         'abrogated': 1033,\n",
              "         'pip3in': 42,\n",
              "         'a121v': 210,\n",
              "         'g129a': 210,\n",
              "         't131a': 84,\n",
              "         'total': 10899,\n",
              "         'substituted': 599,\n",
              "         'val': 747,\n",
              "         'mutational': 4826,\n",
              "         'remarkably': 862,\n",
              "         'gly129': 42,\n",
              "         'g129e': 369,\n",
              "         'defective': 3081,\n",
              "         'maintains': 264,\n",
              "         'phosphotyrosine': 987,\n",
              "         'peptides': 1716,\n",
              "         '34': 5192,\n",
              "         'overall': 7678,\n",
              "         'less': 7156,\n",
              "         'affect': 6675,\n",
              "         'his93': 84,\n",
              "         'fully': 2547,\n",
              "         'weakly': 525,\n",
              "         'except': 2159,\n",
              "         'val166': 84,\n",
              "         'gln171': 84,\n",
              "         'extent': 1589,\n",
              "         'asp162': 84,\n",
              "         'd92a': 214,\n",
              "         'accordance': 1032,\n",
              "         'importance': 2526,\n",
              "         'hydrolysis': 2004,\n",
              "         'remains': 3403,\n",
              "         'unclear': 1651,\n",
              "         'detail': 929,\n",
              "         'dimensional': 1225,\n",
              "         'regions': 6831,\n",
              "         'spanning': 719,\n",
              "         'marked': 2250,\n",
              "         'yellow': 1314,\n",
              "         'red': 3519,\n",
              "         'blue': 2952,\n",
              "         'respectively': 10428,\n",
              "         'image': 4153,\n",
              "         'pymol': 496,\n",
              "         'http': 3198,\n",
              "         'org': 4302,\n",
              "         'pdb': 1499,\n",
              "         'id': 1276,\n",
              "         '1d5r': 85,\n",
              "         'alignment': 2254,\n",
              "         'homo': 685,\n",
              "         'sapiens': 545,\n",
              "         'danio': 92,\n",
              "         'rerio': 98,\n",
              "         'strongylocentrotus': 85,\n",
              "         'purpuratus': 91,\n",
              "         'drosophila': 970,\n",
              "         'melanogaster': 257,\n",
              "         'caenorhabditis': 206,\n",
              "         'elegans': 371,\n",
              "         'dictyostelium': 97,\n",
              "         'discoideum': 91,\n",
              "         'schizosaccharomyces': 121,\n",
              "         'pombe': 225,\n",
              "         'c': 63506,\n",
              "         'h': 13685,\n",
              "         'sequences': 6112,\n",
              "         'numbering': 662,\n",
              "         'brackets': 138,\n",
              "         'identity': 887,\n",
              "         'regard': 963,\n",
              "         'alignments': 760,\n",
              "         'made': 2627,\n",
              "         'manually': 361,\n",
              "         'view': 3749,\n",
              "         'largedownload': 392,\n",
              "         'slide': 1804,\n",
              "         'assessment': 3279,\n",
              "         'covering': 421,\n",
              "         'yph499': 137,\n",
              "         'transformants': 543,\n",
              "         'expressing': 15973,\n",
              "         'caax': 554,\n",
              "         'akt1': 3097,\n",
              "         'acids': 6782,\n",
              "         'cys': 899,\n",
              "         'bold': 375,\n",
              "         'case': 7568,\n",
              "         'ala121': 85,\n",
              "         'ala126': 84,\n",
              "         'incubated': 4969,\n",
              "         'galactose': 762,\n",
              "         'expressed': 12885,\n",
              "         'gal1': 209,\n",
              "         'inducible': 1350,\n",
              "         'promoter': 7018,\n",
              "         'staining': 4913,\n",
              "         'monitored': 1115,\n",
              "         'fluorescence': 2485,\n",
              "         'microscopy': 901,\n",
              "         'reference': 1864,\n",
              "         'controls': 5769,\n",
              "         'wild': 36334,\n",
              "         'wt': 18965,\n",
              "         'empty': 2389,\n",
              "         'vector': 8875,\n",
              "         'top': 3172,\n",
              "         'left': 3017,\n",
              "         'black': 1091,\n",
              "         'color': 901,\n",
              "         'bars': 2202,\n",
              "         'indicates': 3334,\n",
              "         'percentage': 2714,\n",
              "         'plasma': 2441,\n",
              "         'membrane': 5763,\n",
              "         'stain': 362,\n",
              "         'low': 10044,\n",
              "         'white': 1300,\n",
              "         'corresponds': 1066,\n",
              "         'display': 1995,\n",
              "         'nucleocytoplasmic': 145,\n",
              "         'signal': 6489,\n",
              "         '100': 11907,\n",
              "         'analyzed': 11264,\n",
              "         'microscopically': 142,\n",
              "         'per': 5995,\n",
              "         'experiment': 2042,\n",
              "         'data': 39087,\n",
              "         'average': 3146,\n",
              "         'different': 19677,\n",
              "         'experiments': 9258,\n",
              "         'error': 1584,\n",
              "         'correspond': 1222,\n",
              "         'standard': 4056,\n",
              "         'deviation': 1136,\n",
              "         'signs': 426,\n",
              "         'indicate': 6190,\n",
              "         'rescue': 1714,\n",
              "         'arrest': 2531,\n",
              "         'induced': 12250,\n",
              "         'determined': 8403,\n",
              "         'serial': 672,\n",
              "         'dilution': 1135,\n",
              "         'drop': 272,\n",
              "         'assays': 16956,\n",
              "         'medium': 5421,\n",
              "         'see': 6385,\n",
              "         'inlet': 86,\n",
              "         'asterisks': 507,\n",
              "         'mark': 739,\n",
              "         'reported': 18122,\n",
              "         'mimicking': 327,\n",
              "         '1c': 2523,\n",
              "         'substitution': 7386,\n",
              "         'mutants': 34777,\n",
              "         'mimicked': 116,\n",
              "         'tested': 9310,\n",
              "         'included': 6001,\n",
              "         'i122l': 84,\n",
              "         'i122v': 126,\n",
              "         'h123y': 126,\n",
              "         'c124n': 84,\n",
              "         'k125l': 84,\n",
              "         'k125m': 84,\n",
              "         'k125r': 126,\n",
              "         'a126d': 84,\n",
              "         'a126g': 84,\n",
              "         'g127n': 84,\n",
              "         'k128r': 84,\n",
              "         'k128t': 84,\n",
              "         'g129d': 84,\n",
              "         'r130a': 168,\n",
              "         'r130k': 84,\n",
              "         't131i': 126,\n",
              "         't131l': 84,\n",
              "         't131s': 126,\n",
              "         'groups': 4138,\n",
              "         'agreement': 2321,\n",
              "         'lack': 3755,\n",
              "         '35': 6489,\n",
              "         'suggest': 9013,\n",
              "         'bear': 197,\n",
              "         'moreover': 3986,\n",
              "         'conservative': 822,\n",
              "         'permissive': 222,\n",
              "         'presented': 2694,\n",
              "         'marks': 348,\n",
              "         'divergences': 88,\n",
              "         'versions': 408,\n",
              "         'position': 6888,\n",
              "         'italics': 117,\n",
              "         'already': 1547,\n",
              "         'asterisk': 335,\n",
              "         'spread': 449,\n",
              "         'along': 2096,\n",
              "         'nevertheless': 1263,\n",
              "         'terminal': 11970,\n",
              "         'tail': 1276,\n",
              "         '50': 13655,\n",
              "         'targeted': 5613,\n",
              "         'previous': 7389,\n",
              "         'finding': 2799,\n",
              "         '349': 209,\n",
              "         'minimal': 1316,\n",
              "         'hand': 1784,\n",
              "         'ptp': 1695,\n",
              "         'domain': 41665,\n",
              "         '185': 297,\n",
              "         'either': 13006,\n",
              "         'intrinsic': 2434,\n",
              "         '36': 5100,\n",
              "         '40': 8729,\n",
              "         'figs': 1893,\n",
              "         '6': 34475,\n",
              "         'expected': 4920,\n",
              "         'a121e': 42,\n",
              "         'i122s': 42,\n",
              "         'h123d': 84,\n",
              "         'c124s': 307,\n",
              "         'k125e': 53,\n",
              "         'a126s': 84,\n",
              "         'a126v': 42,\n",
              "         'g127e': 42,\n",
              "         'k128n': 84,\n",
              "         'g129v': 64,\n",
              "         'g129r': 210,\n",
              "         'r130g': 207,\n",
              "         'gave': 640,\n",
              "         'rise': 827,\n",
              "         'inactive': 4504,\n",
              "         't160i': 84,\n",
              "         'r161g': 42,\n",
              "         'd162g': 42,\n",
              "         'g165e': 126,\n",
              "         'g165v': 126,\n",
              "         'v166i': 42,\n",
              "         't167a': 77,\n",
              "         'i168f': 42,\n",
              "         'p169h': 42,\n",
              "         's170r': 183,\n",
              "         'finally': 3460,\n",
              "         'y88c': 90,\n",
              "         'f90l': 84,\n",
              "         'e91a': 84,\n",
              "         'd92e': 212,\n",
              "         'd92g': 42,\n",
              "         'd92h': 42,\n",
              "         'd92v': 42,\n",
              "         'h93d': 42,\n",
              "         'h93q': 42,\n",
              "         'h93r': 348,\n",
              "         'h93y': 165,\n",
              "         'n94i': 42,\n",
              "         'p95l': 44,\n",
              "         'p96q': 87,\n",
              "         'bearing': 1772,\n",
              "         'rest': 502,\n",
              "         'mutant': 47016,\n",
              "         'summary': 1974,\n",
              "         'supplementary': 19397,\n",
              "         'material': 1877,\n",
              "         'table': 33015,\n",
              "         's1': 4924,\n",
              "         'taken': 3007,\n",
              "         'illustrate': 453,\n",
              "         'heterogeneity': 1511,\n",
              "         'tolerance': 377,\n",
              "         'right': 3006,\n",
              "         'representative': 2823,\n",
              "         'recombinant': 2611,\n",
              "         'purified': 3990,\n",
              "         'cos': 2037,\n",
              "         '7': 30291,\n",
              "         'line': 15001,\n",
              "         'transfectants': 775,\n",
              "         'malachite': 98,\n",
              "         'green': 3254,\n",
              "         'assay': 20010,\n",
              "         'dic8': 189,\n",
              "         'phosphatydilinositol': 126,\n",
              "         'substrate': 5917,\n",
              "         'abolish': 784,\n",
              "         'ha': 4130,\n",
              "         'free': 4897,\n",
              "         'lysates': 4827,\n",
              "         'subjected': 2727,\n",
              "         'immunoblot': 1715,\n",
              "         'phospho': 4565,\n",
              "         'antibodies': 7275,\n",
              "         'thr308': 218,\n",
              "         'ser473': 450,\n",
              "         'content': 1176,\n",
              "         'equally': 626,\n",
              "         'bands': 1492,\n",
              "         'quantified': 1264,\n",
              "         'sd': 3156,\n",
              "         'ratio': 4227,\n",
              "         'obtained': 9101,\n",
              "         'global': 1272,\n",
              "         'impact': 4458,\n",
              "         'axis': 881,\n",
              "         'refers': 197,\n",
              "         'relative': 7056,\n",
              "         'measured': 4900,\n",
              "         'localization': 4144,\n",
              "         '6a': 2096,\n",
              "         'particular': 3355,\n",
              "         'category': 652,\n",
              "         'spots': 732,\n",
              "         'surrounded': 202,\n",
              "         'circle': 298,\n",
              "         'common': 9187,\n",
              "         'vertical': 265,\n",
              "         'paired': 1379,\n",
              "         'set': 7280,\n",
              "         'significant': 11902,\n",
              "         'difference': 3816,\n",
              "         'respect': 1438,\n",
              "         '0': 65716,\n",
              "         '001': 2495,\n",
              "         'comparative': 939,\n",
              "         'referred': 964,\n",
              "         'competent': 451,\n",
              "         'listed': 1613,\n",
              "         'figures': 4252,\n",
              "         'large': 9269,\n",
              "         'download': 4900,\n",
              "         'relevance': 1826,\n",
              "         'asn': 546,\n",
              "         'rendered': 369,\n",
              "         'enzymes': 1423,\n",
              "         '5a': 2169,\n",
              "         'outlines': 57,\n",
              "         'enzymatic': 1534,\n",
              "         'demonstrates': 827,\n",
              "         'aspartic': 518,\n",
              "         'strict': 154,\n",
              "         'requirement': 848,\n",
              "         'driven': 2953,\n",
              "         'substantiate': 102,\n",
              "         'observation': 3164,\n",
              "         'non': 10200,\n",
              "         'charge': 1272,\n",
              "         'size': 4772,\n",
              "         '5b': 2095,\n",
              "         'upon': 4456,\n",
              "         'manifested': 192,\n",
              "         'indirectly': 468,\n",
              "         '5c': 1204,\n",
              "         'behave': 269,\n",
              "         'proposed': 2513,\n",
              "         'basis': 4371,\n",
              "         'identification': 3690,\n",
              "         '41': 4052,\n",
              "         '42': 4521,\n",
              "         'little': 2061,\n",
              "         'severity': 534,\n",
              "         'glioblastoma': 1336,\n",
              "         'patient': 15855,\n",
              "         'performing': 378,\n",
              "         'modest': 1026,\n",
              "         'capable': 1175,\n",
              "         'recovering': 46,\n",
              "         '6b': 1323,\n",
              "         'prompted': 443,\n",
              "         'us': 1960,\n",
              "         'examine': 1897,\n",
              "         'additional': 9933,\n",
              "         'mental': 261,\n",
              "         'retardation': 374,\n",
              "         'g44d': 46,\n",
              "         'h118p': 90,\n",
              "         'h123q': 119,\n",
              "         'm134t': 42,\n",
              "         'e157g': 78,\n",
              "         'r173h': 186,\n",
              "         'y176c': 84,\n",
              "         't202i': 42,\n",
              "         'f241s': 168,\n",
              "         'd252g': 132,\n",
              "         'w274l': 42,\n",
              "         'n276s': 90,\n",
              "         'd326n': 114,\n",
              "         'involving': 3378,\n",
              "         'domains': 12496,\n",
              "         'recover': 107,\n",
              "         'imposed': 156,\n",
              "         'inhibition': 12729,\n",
              "         'variable': 1569,\n",
              "         'contrast': 9324,\n",
              "         'analyzing': 509,\n",
              "         'distributed': 678,\n",
              "         'coding': 3823,\n",
              "         'a34d': 43,\n",
              "         'm35r': 46,\n",
              "         'g36r': 45,\n",
              "         'n48k': 79,\n",
              "         'h61d': 45,\n",
              "         'y68d': 42,\n",
              "         'y155c': 111,\n",
              "         'l181p': 42,\n",
              "         'v217n': 42,\n",
              "         'p246l': 47,\n",
              "         'r335l': 51,\n",
              "         'v343e': 100,\n",
              "         'l345v': 42,\n",
              "         'f347l': 124,\n",
              "         'comparison': 4351,\n",
              "         'deplete': 91,\n",
              "         '6c': 797,\n",
              "         '6d': 640,\n",
              "         'effect': 14404,\n",
              "         'specific': 17921,\n",
              "         'correlate': 1270,\n",
              "         'severe': 1653,\n",
              "         'driver': 2984,\n",
              "         'neurological': 167,\n",
              "         'discussion': 4301,\n",
              "         'regulatory': 4465,\n",
              "         'hub': 187,\n",
              "         'mediated': 9272,\n",
              "         'express': 2853,\n",
              "         'variety': 2016,\n",
              "         'isoforms': 2630,\n",
              "         'downstream': 7138,\n",
              "         'kinases': 6705,\n",
              "         'inactivator': 42,\n",
              "         'regulation': 6322,\n",
              "         'complex': 12827,\n",
              "         'multiple': 8886,\n",
              "         'processes': 1695,\n",
              "         'phosphorylation': 19979,\n",
              "         'ubiquitination': 2469,\n",
              "         'nuclear': 7784,\n",
              "         'translocation': 2312,\n",
              "         'interaction': 12820,\n",
              "         'membranes': 1767,\n",
              "         'complexing': 46,\n",
              "         '24': 12457,\n",
              "         '44': 3226,\n",
              "         'recent': 5383,\n",
              "         'reports': 2805,\n",
              "         'towards': 1378,\n",
              "         '45': 4258,\n",
              "         '46': 3345,\n",
              "         'mainly': 1555,\n",
              "         'relies': 376,\n",
              "         'locally': 312,\n",
              "         'isolated': 3468,\n",
              "         ...})"
            ]
          },
          "execution_count": 29,
          "metadata": {},
          "output_type": "execute_result"
        }
      ],
      "source": [
        "total_dict"
      ]
    },
    {
      "cell_type": "code",
      "execution_count": 30,
      "metadata": {},
      "outputs": [
        {
          "name": "stdout",
          "output_type": "stream",
          "text": [
            "Hello world\n"
          ]
        }
      ],
      "source": [
        "print(\"Hello world\")"
      ]
    },
    {
      "cell_type": "markdown",
      "metadata": {
        "id": "_fZvJgWwbQTl"
      },
      "source": [
        "### Task 14: Define a Function for Response Coding"
      ]
    },
    {
      "cell_type": "code",
      "execution_count": 31,
      "metadata": {
        "id": "hS1bpCoBbTi8"
      },
      "outputs": [],
      "source": [
        "def generate_text_responsecoding(df, dict_list, total_dict, alpha):\n",
        "    num_classes = 9  # Number of classes\n",
        "    num_rows = df.shape[0]  # Number of rows in the DataFrame\n",
        "\n",
        "    # Initialize a zeros array with shape (num_rows, num_classes)\n",
        "    text_feature_rc = np.zeros((num_rows, num_classes))\n",
        "\n",
        "    # Split the Text column into lists of words\n",
        "    df['split_text'] = df['Text'].apply(lambda x: x.split())\n",
        "\n",
        "    # Calculate response coding for each class\n",
        "    for i in range(num_classes):\n",
        "        row_index = 0\n",
        "        for split_text in df['split_text']:\n",
        "            # Use list comprehension and the map() method to apply the log probability calculations\n",
        "            sum_prob = sum(\n",
        "                map(\n",
        "                    lambda word: math.log((dict_list[i].get(word, 0) + alpha) / (total_dict.get(word, 0) + 9*alpha)),\n",
        "                    split_text\n",
        "                )\n",
        "            )\n",
        "            # Calculate the final value for each row and class\n",
        "            text_feature_rc[row_index, i] = math.exp(sum_prob / len(split_text))\n",
        "            row_index += 1\n",
        " \n",
        "            df.drop(['split_text'], axis=1)\n",
        "           \n",
        "    return text_feature_rc"
      ]
    },
    {
      "cell_type": "markdown",
      "metadata": {
        "id": "8jxtnUiUbUQJ"
      },
      "source": [
        "### Task 15: Run the Function on Text Field"
      ]
    },
    {
      "cell_type": "code",
      "execution_count": 32,
      "metadata": {},
      "outputs": [],
      "source": [
        "alpha = 10\n",
        "\n",
        "train_text_rc  = generate_text_responsecoding(train_df, dict_list, total_dict, alpha)\n",
        "test_text_rc  = generate_text_responsecoding(test_df, dict_list, total_dict, alpha)\n",
        "cv_text_rc  = generate_text_responsecoding(cv_df, dict_list, total_dict, alpha)"
      ]
    },
    {
      "cell_type": "code",
      "execution_count": 33,
      "metadata": {},
      "outputs": [
        {
          "data": {
            "text/html": [
              "<div>\n",
              "<style scoped>\n",
              "    .dataframe tbody tr th:only-of-type {\n",
              "        vertical-align: middle;\n",
              "    }\n",
              "\n",
              "    .dataframe tbody tr th {\n",
              "        vertical-align: top;\n",
              "    }\n",
              "\n",
              "    .dataframe thead th {\n",
              "        text-align: right;\n",
              "    }\n",
              "</style>\n",
              "<table border=\"1\" class=\"dataframe\">\n",
              "  <thead>\n",
              "    <tr style=\"text-align: right;\">\n",
              "      <th></th>\n",
              "      <th>ID</th>\n",
              "      <th>Gene</th>\n",
              "      <th>Variation</th>\n",
              "      <th>Class</th>\n",
              "      <th>Text</th>\n",
              "      <th>split_text</th>\n",
              "    </tr>\n",
              "  </thead>\n",
              "  <tbody>\n",
              "    <tr>\n",
              "      <th>2221</th>\n",
              "      <td>2221</td>\n",
              "      <td>PTEN</td>\n",
              "      <td>G129E</td>\n",
              "      <td>4</td>\n",
              "      <td>tumour suppressor gene pten maps 10q23 3 encod...</td>\n",
              "      <td>[tumour, suppressor, gene, pten, maps, 10q23, ...</td>\n",
              "    </tr>\n",
              "    <tr>\n",
              "      <th>2660</th>\n",
              "      <td>2660</td>\n",
              "      <td>BRCA1</td>\n",
              "      <td>E1250K</td>\n",
              "      <td>5</td>\n",
              "      <td>mutations brca1 brca2 account majority heredit...</td>\n",
              "      <td>[mutations, brca1, brca2, account, majority, h...</td>\n",
              "    </tr>\n",
              "    <tr>\n",
              "      <th>2147</th>\n",
              "      <td>2147</td>\n",
              "      <td>PTCH1</td>\n",
              "      <td>R571W</td>\n",
              "      <td>5</td>\n",
              "      <td>abstract hedgehog hh signaling largely suppres...</td>\n",
              "      <td>[abstract, hedgehog, hh, signaling, largely, s...</td>\n",
              "    </tr>\n",
              "    <tr>\n",
              "      <th>1965</th>\n",
              "      <td>1965</td>\n",
              "      <td>CTNNB1</td>\n",
              "      <td>S33F</td>\n",
              "      <td>2</td>\n",
              "      <td>screened 75 primary hepatocellular carcinomas ...</td>\n",
              "      <td>[screened, 75, primary, hepatocellular, carcin...</td>\n",
              "    </tr>\n",
              "    <tr>\n",
              "      <th>2492</th>\n",
              "      <td>2492</td>\n",
              "      <td>BRCA1</td>\n",
              "      <td>A1708E</td>\n",
              "      <td>4</td>\n",
              "      <td>abstract brca1 gene individuals risk breast ov...</td>\n",
              "      <td>[abstract, brca1, gene, individuals, risk, bre...</td>\n",
              "    </tr>\n",
              "  </tbody>\n",
              "</table>\n",
              "</div>"
            ],
            "text/plain": [
              "        ID    Gene Variation  Class  \\\n",
              "2221  2221    PTEN     G129E      4   \n",
              "2660  2660   BRCA1    E1250K      5   \n",
              "2147  2147   PTCH1     R571W      5   \n",
              "1965  1965  CTNNB1      S33F      2   \n",
              "2492  2492   BRCA1    A1708E      4   \n",
              "\n",
              "                                                   Text  \\\n",
              "2221  tumour suppressor gene pten maps 10q23 3 encod...   \n",
              "2660  mutations brca1 brca2 account majority heredit...   \n",
              "2147  abstract hedgehog hh signaling largely suppres...   \n",
              "1965  screened 75 primary hepatocellular carcinomas ...   \n",
              "2492  abstract brca1 gene individuals risk breast ov...   \n",
              "\n",
              "                                             split_text  \n",
              "2221  [tumour, suppressor, gene, pten, maps, 10q23, ...  \n",
              "2660  [mutations, brca1, brca2, account, majority, h...  \n",
              "2147  [abstract, hedgehog, hh, signaling, largely, s...  \n",
              "1965  [screened, 75, primary, hepatocellular, carcin...  \n",
              "2492  [abstract, brca1, gene, individuals, risk, bre...  "
            ]
          },
          "execution_count": 33,
          "metadata": {},
          "output_type": "execute_result"
        }
      ],
      "source": [
        "train_df.head()"
      ]
    },
    {
      "cell_type": "markdown",
      "metadata": {
        "id": "-2vnutLybZC0"
      },
      "source": [
        "### Task 16: One-hot Encode the Features"
      ]
    },
    {
      "cell_type": "code",
      "execution_count": 34,
      "metadata": {
        "id": "m4Ufm7iRbb-m"
      },
      "outputs": [
        {
          "data": {
            "text/plain": [
              "225"
            ]
          },
          "execution_count": 34,
          "metadata": {},
          "output_type": "execute_result"
        }
      ],
      "source": [
        "#One-hot encoding the Gene feature \n",
        "gene_vectorizer = CountVectorizer()\n",
        "train_gene_oh = gene_vectorizer.fit_transform(train_df['Gene'])\n",
        "test_gene_oh = gene_vectorizer.transform(test_df['Gene'])\n",
        "cv_gene_oh = gene_vectorizer.transform(cv_df['Gene'])\n",
        "\n",
        "feature_names = gene_vectorizer.get_feature_names_out()\n",
        "len(feature_names)\n"
      ]
    },
    {
      "cell_type": "code",
      "execution_count": 35,
      "metadata": {},
      "outputs": [
        {
          "data": {
            "text/plain": [
              "1961"
            ]
          },
          "execution_count": 35,
          "metadata": {},
          "output_type": "execute_result"
        }
      ],
      "source": [
        "#One-hot encoding the Variation feature\n",
        "variation_vectorizer = CountVectorizer()\n",
        "train_variation_oh = variation_vectorizer.fit_transform(train_df['Variation'])\n",
        "test_variation_oh = variation_vectorizer.transform(test_df['Variation'])\n",
        "cv_variation_oh = variation_vectorizer.transform(cv_df['Variation'])\n",
        "\n",
        "feature_names_variation = variation_vectorizer.get_feature_names_out()\n",
        "len(feature_names_variation)"
      ]
    },
    {
      "cell_type": "code",
      "execution_count": 36,
      "metadata": {},
      "outputs": [
        {
          "data": {
            "text/plain": [
              "53845"
            ]
          },
          "execution_count": 36,
          "metadata": {},
          "output_type": "execute_result"
        }
      ],
      "source": [
        "#One-hot encoding the Text feauture\n",
        "text_vectorizer = CountVectorizer(min_df=3)\n",
        "train_text_oh = text_vectorizer.fit_transform(train_df['Text'])\n",
        "test_text_oh = text_vectorizer.transform(test_df['Text'])\n",
        "cv_text_oh = text_vectorizer.transform(cv_df['Text'])\n",
        "\n",
        "feature_names_text = text_vectorizer.get_feature_names_out()\n",
        "len(feature_names_text)"
      ]
    },
    {
      "cell_type": "markdown",
      "metadata": {},
      "source": []
    },
    {
      "cell_type": "markdown",
      "metadata": {
        "id": "wVavpF2Cbdu_"
      },
      "source": [
        "### Task 17: Normalizing the Text Feature"
      ]
    },
    {
      "cell_type": "code",
      "execution_count": 37,
      "metadata": {
        "id": "CfntjIZWbhAY"
      },
      "outputs": [],
      "source": [
        "train_text_oh = normalize(train_text_oh, axis=0)\n",
        "test_text_oh = normalize(test_text_oh, axis=0)\n",
        "cv_text_oh = normalize(cv_text_oh, axis=0)\n",
        "\n",
        "train_text_rc = normalize(train_text_rc, axis=1, norm='l1')\n",
        "test_text_rc = normalize(test_text_rc, axis=1, norm='l1')\n",
        "cv_text_rc = normalize(cv_text_rc, axis=1, norm='l1')\n"
      ]
    },
    {
      "cell_type": "markdown",
      "metadata": {
        "id": "F1o_IjQ-bmk8"
      },
      "source": [
        "## Category: Check Feature Importances"
      ]
    },
    {
      "cell_type": "markdown",
      "metadata": {
        "id": "V8nm179ebs1i"
      },
      "source": [
        "### Task 18: Train Single Feature Models"
      ]
    },
    {
      "cell_type": "code",
      "execution_count": 38,
      "metadata": {
        "id": "c6ZOXVlWbpSY"
      },
      "outputs": [
        {
          "name": "stdout",
          "output_type": "stream",
          "text": [
            "1.232271626701443\n"
          ]
        }
      ],
      "source": [
        "gene_log_error_array = []\n",
        "alpha = 0.001\n",
        "\n",
        "clf = SGDClassifier(alpha=alpha, penalty='l2', loss='log_loss', random_state=42)\n",
        "clf.fit(train_gene_oh, y_train)\n",
        "sig_clf = CalibratedClassifierCV(clf, method=\"sigmoid\", cv=\"prefit\")\n",
        "sig_clf.fit(cv_gene_oh, y_cv)\n",
        "predict_array = sig_clf.predict_proba(cv_gene_oh)\n",
        "gene_log_error = log_loss(y_cv, predict_array, labels=clf.classes_, eps=1e-15)\n",
        "print (gene_log_error)"
      ]
    },
    {
      "cell_type": "code",
      "execution_count": 39,
      "metadata": {},
      "outputs": [
        {
          "name": "stdout",
          "output_type": "stream",
          "text": [
            "1.7008937570555434\n"
          ]
        }
      ],
      "source": [
        "variation_log_error_array = []\n",
        "alpha = 0.001\n",
        "\n",
        "clf = SGDClassifier(alpha=alpha, penalty='l2', loss='log_loss', random_state=42)\n",
        "clf.fit(train_variation_oh, y_train)\n",
        "sig_clf = CalibratedClassifierCV(clf, method=\"sigmoid\", cv=\"prefit\")\n",
        "sig_clf.fit(cv_variation_oh, y_cv)\n",
        "predict_array = sig_clf.predict_proba(cv_variation_oh)\n",
        "variation_log_error=log_loss(y_cv, predict_array, labels=clf.classes_, eps=1e-15)\n",
        "print (variation_log_error)"
      ]
    },
    {
      "cell_type": "code",
      "execution_count": 40,
      "metadata": {},
      "outputs": [
        {
          "name": "stdout",
          "output_type": "stream",
          "text": [
            "1.1630997814516775\n"
          ]
        }
      ],
      "source": [
        "text_log_error_array = []\n",
        "alpha = 0.001\n",
        "\n",
        "clf = SGDClassifier(alpha=alpha, penalty='l2', loss='log_loss', random_state=42)\n",
        "clf.fit(train_text_oh, y_train)\n",
        "sig_clf = CalibratedClassifierCV(clf, method=\"sigmoid\", cv=\"prefit\")\n",
        "sig_clf.fit(cv_text_oh, y_cv)\n",
        "predict_array = sig_clf.predict_proba(cv_text_oh)\n",
        "text_log_error=log_loss(y_cv, predict_array, labels=clf.classes_, eps=1e-15)\n",
        "print (text_log_error)"
      ]
    },
    {
      "cell_type": "markdown",
      "metadata": {
        "id": "WDLfRfGYqxVn"
      },
      "source": [
        "## Category: Model Training"
      ]
    },
    {
      "cell_type": "markdown",
      "metadata": {
        "id": "xDr0p8Wmq4Ta"
      },
      "source": [
        "### Task 19: Stack the Features"
      ]
    },
    {
      "cell_type": "code",
      "execution_count": 41,
      "metadata": {
        "id": "sfiWdeW9q3HQ"
      },
      "outputs": [],
      "source": [
        "#horizontal Stack One-Hot Enconding\n",
        "train_gene_var_oh = hstack((train_gene_oh, train_variation_oh))\n",
        "test_gene_var_oh = hstack((test_gene_oh, test_variation_oh))\n",
        "cv_gene_var_oh = hstack((cv_gene_oh, cv_variation_oh))\n",
        "\n",
        "train_x_oh = hstack((train_gene_var_oh, train_text_oh)).tocsr()\n",
        "test_x_oh = hstack((test_gene_var_oh, test_text_oh)).tocsr()\n",
        "cv_x_oh = hstack((cv_gene_var_oh, cv_text_oh)).tocsr()\n",
        "\n",
        "#Horizontal Stack Response Encoded \n",
        "train_gene_var_rc = np.hstack((train_gene_rc, train_variation_rc))\n",
        "test_gene_var_rc = np.hstack((test_gene_rc, test_variation_rc))\n",
        "cv_gene_var_rc = np.hstack((cv_gene_rc, cv_variation_rc))\n",
        "\n",
        "train_x_rc = np.hstack((train_gene_var_rc, train_text_rc))\n",
        "test_x_rc = np.hstack((test_gene_var_rc, test_text_rc))\n",
        "cv_x_rc = np.hstack((cv_gene_var_rc, cv_text_rc))\n",
        "\n",
        "#Train data\n",
        "train_y = np.array(list(train_df['Class']))\n",
        "test_y = np.array(list(test_df['Class']))\n",
        "cv_y = np.array(list(cv_df['Class']))"
      ]
    },
    {
      "cell_type": "markdown",
      "metadata": {
        "id": "f_qefrq8rMfE"
      },
      "source": [
        "### Task 20: Train a Logistic Regression Model"
      ]
    },
    {
      "cell_type": "code",
      "execution_count": 42,
      "metadata": {
        "id": "sT0cSGsJrPzJ"
      },
      "outputs": [
        {
          "name": "stdout",
          "output_type": "stream",
          "text": [
            "One-Hot Enconding Dimensions:\n",
            "X_train:  (2124, 56031)\n",
            "Y:  (2124,)\n",
            "Response Enconding Dimensions:\n",
            "X_train:  (2124, 27)\n",
            "Y:  (2124,)\n"
          ]
        }
      ],
      "source": [
        "print(\"One-Hot Enconding Dimensions:\")\n",
        "print(\"X_train: \", train_x_oh.shape)\n",
        "print(\"Y: \", train_y.shape)\n",
        "\n",
        "print(\"Response Enconding Dimensions:\")\n",
        "print(\"X_train: \", train_x_rc.shape)\n",
        "print(\"Y: \", train_y.shape)\n"
      ]
    },
    {
      "cell_type": "code",
      "execution_count": 43,
      "metadata": {},
      "outputs": [],
      "source": [
        "def compute_log_loss_for_alphas(train_x, train_y, cv_x, cv_y, alpha_range):\n",
        "    log_error_array = []\n",
        "\n",
        "    for alpha_value in alpha_range:\n",
        "        print(\"for alpha =\", alpha_value)\n",
        "\n",
        "        #Initialize andd fit SGDClassifier\n",
        "        classifier = SGDClassifier(class_weight='balanced', alpha=alpha_value, penalty='l2', loss='log_loss', random_state=42)\n",
        "        classifier.fit(train_x, train_y)\n",
        "\n",
        "        #Calibrate the classifier and fit it \n",
        "        calibrate_classifier = CalibratedClassifierCV(classifier, method=\"sigmoid\", cv=\"prefit\")\n",
        "        calibrate_classifier.fit(cv_x, cv_y)\n",
        "\n",
        "        #Predict probabilities and calculate the log-loss\n",
        "        predicted_probs = calibrate_classifier.predict_proba(cv_x)\n",
        "        log_loss_value = log_loss(cv_y, predicted_probs, labels=classifier.classes_, eps=1e-15)\n",
        "        log_error_array.append(log_loss_value)\n",
        "\n",
        "        print(\"Log Loss: \", log_loss_value)\n",
        "        return log_error_array"
      ]
    },
    {
      "cell_type": "code",
      "execution_count": 44,
      "metadata": {},
      "outputs": [
        {
          "data": {
            "text/plain": [
              "[0.0001, 0.001, 0.01, 0.1, 1.0, 10.0, 100.0]"
            ]
          },
          "execution_count": 44,
          "metadata": {},
          "output_type": "execute_result"
        }
      ],
      "source": [
        "# Define alpha values\n",
        "alpha_values = np.logspace(-4, 2, num=7, base=10).tolist()\n",
        "alpha_values"
      ]
    },
    {
      "cell_type": "code",
      "execution_count": 45,
      "metadata": {},
      "outputs": [
        {
          "name": "stdout",
          "output_type": "stream",
          "text": [
            "for alpha = 0.0001\n",
            "Log Loss:  1.1542095523187361\n",
            "For values of best alpha = 0.0001 The test log loss is: 1.1619312891746747\n"
          ]
        }
      ],
      "source": [
        "# Compute the log-loss for each alpha\n",
        "cv_log_error_array = compute_log_loss_for_alphas(train_x_oh, train_y, cv_x_oh, cv_y, alpha_values)\n",
        "\n",
        "# Find the best alpha and retrain the model\n",
        "best_alpha_index = np.argmin(cv_log_error_array)\n",
        "best_alpha = alpha_values[best_alpha_index]\n",
        "\n",
        "#Initialize the final Classifier\n",
        "final_clf = SGDClassifier(class_weight='balanced', alpha=best_alpha, penalty='l2', loss='log_loss', random_state=42)\n",
        "final_clf.fit(train_x_oh, train_y)\n",
        "\n",
        "# Calibrate and fit the final classifier\n",
        "final_sig_clf = CalibratedClassifierCV(final_clf, method=\"sigmoid\",cv=\"prefit\")\n",
        "final_sig_clf.fit(cv_x_oh, cv_y)\n",
        "\n",
        "# Predict on test data and calculate the log-loss\n",
        "final_predictions = final_sig_clf.predict_proba(test_x_oh)\n",
        "test_log_loss = log_loss(y_test, final_predictions, labels=final_clf.classes_, eps=1e-15)\n",
        "\n",
        "print('For values of best alpha =', best_alpha, \"The test log loss is:\", test_log_loss)"
      ]
    },
    {
      "cell_type": "markdown",
      "metadata": {
        "id": "YpH1HNtlrTxz"
      },
      "source": [
        "### Task 21: Train a Random Forest Model"
      ]
    },
    {
      "cell_type": "code",
      "execution_count": 46,
      "metadata": {
        "id": "b2qMLUZqrbUA"
      },
      "outputs": [
        {
          "name": "stdout",
          "output_type": "stream",
          "text": [
            "For values of best alpha = 100, best max depth = 5, train log loss is: 0.15904500607684408\n",
            "For values of best alpha = 100, best max depth = 5, cross validation log loss is: 1.058300218931509\n",
            "For values of best alpha = 100, best max depth = 5, test log loss is: 1.0302585166829297\n"
          ]
        }
      ],
      "source": [
        "# Function to train and evaluate a model\n",
        "def train_and_evaluate_model(train_x, train_y, cv_x, cv_y, n_estimators, max_depth):\n",
        "    clf = RandomForestClassifier(n_estimators=n_estimators, criterion='gini', max_depth=max_depth, random_state=42, n_jobs=-1)\n",
        "    clf.fit(train_x, train_y)\n",
        "    sig_clf = CalibratedClassifierCV(clf, method=\"sigmoid\", cv=\"prefit\")\n",
        "    sig_clf.fit(cv_x, cv_y)\n",
        "    sig_clf_probs = sig_clf.predict_proba(cv_x)\n",
        "    return log_loss(cv_y, sig_clf_probs, labels=clf.classes_)\n",
        "\n",
        "# Lists of alpha and max_depth values\n",
        "alpha = [10, 50, 100, 200, 500, 1000]\n",
        "max_depth = [2, 3, 5, 10]\n",
        "\n",
        "# Create a grid of all possible combinations of alpha and max_depth\n",
        "param_grid = [(i, j) for i in alpha for j in max_depth]\n",
        "\n",
        "# Evaluate all combinations\n",
        "log_errors = [train_and_evaluate_model(train_x_rc, train_y, cv_x_rc, cv_y, i, j) for i, j in param_grid]\n",
        "\n",
        "# Find the combination with the lowest log loss\n",
        "min_log_error = min(log_errors)\n",
        "best_params_index = log_errors.index(min_log_error)\n",
        "best_alpha, best_max_depth = param_grid[best_params_index]\n",
        "\n",
        "# Train the final model with the best parameters\n",
        "final_clf = RandomForestClassifier(n_estimators=best_alpha, criterion='gini', max_depth=best_max_depth, random_state=42, n_jobs=-1)\n",
        "final_clf.fit(train_x_rc, train_y)\n",
        "final_sig_clf = CalibratedClassifierCV(final_clf, method=\"sigmoid\",cv=\"prefit\")\n",
        "final_sig_clf.fit(cv_x_rc, cv_y)\n",
        "\n",
        "# Evaluate the final model\n",
        "def evaluate_final_model(data_x, data_y, message):\n",
        "    predict_y = final_sig_clf.predict_proba(data_x)\n",
        "    print(f'For values of best alpha = {best_alpha}, best max depth = {best_max_depth}, {message} log loss is:', log_loss(data_y, predict_y, labels=final_clf.classes_, eps=1e-15))\n",
        "\n",
        "evaluate_final_model(train_x_rc, y_train, 'train')\n",
        "evaluate_final_model(cv_x_rc, y_cv, 'cross validation')\n",
        "evaluate_final_model(test_x_rc, y_test, 'test')"
      ]
    }
  ],
  "metadata": {
    "colab": {
      "provenance": []
    },
    "kernelspec": {
      "display_name": "Python 3",
      "language": "python",
      "name": "python3"
    },
    "language_info": {
      "codemirror_mode": {
        "name": "ipython",
        "version": 3
      },
      "file_extension": ".py",
      "mimetype": "text/x-python",
      "name": "python",
      "nbconvert_exporter": "python",
      "pygments_lexer": "ipython3",
      "version": "3.8.10"
    },
    "vscode": {
      "interpreter": {
        "hash": "916dbcbb3f70747c44a77c7bcd40155683ae19c65e1c03b4aa3499c5328201f1"
      }
    }
  },
  "nbformat": 4,
  "nbformat_minor": 0
}
